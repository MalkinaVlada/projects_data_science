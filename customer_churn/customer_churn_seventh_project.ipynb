{
 "cells": [
  {
   "cell_type": "markdown",
   "metadata": {},
   "source": [
    "# Отток клиентов"
   ]
  },
  {
   "cell_type": "markdown",
   "metadata": {},
   "source": [
    "Нужно спрогнозировать, уйдёт клиент из банка в ближайшее время или нет. \n",
    "Предоставлены исторические данные о поведении клиентов и расторжении договоров с банком. \n",
    "\n",
    "Требуется построить модель со значением *F1*-меры не меньше 0.59.\n"
   ]
  },
  {
   "cell_type": "markdown",
   "metadata": {},
   "source": [
    "## Подготовка данных"
   ]
  },
  {
   "cell_type": "code",
   "execution_count": 1,
   "metadata": {},
   "outputs": [],
   "source": [
    "import pandas as pd\n",
    "from sklearn.model_selection import train_test_split \n",
    "from sklearn.ensemble import RandomForestClassifier\n",
    "from sklearn.linear_model import LogisticRegression\n",
    "from sklearn.tree import DecisionTreeClassifier\n",
    "from joblib import dump\n",
    "from sklearn.preprocessing import StandardScaler\n",
    "from sklearn.metrics import f1_score\n",
    "from sklearn.utils import shuffle\n",
    "from sklearn.metrics import roc_auc_score\n",
    "from sklearn.metrics import accuracy_score"
   ]
  },
  {
   "cell_type": "code",
   "execution_count": 2,
   "metadata": {},
   "outputs": [
    {
     "data": {
      "text/html": [
       "<div>\n",
       "<style scoped>\n",
       "    .dataframe tbody tr th:only-of-type {\n",
       "        vertical-align: middle;\n",
       "    }\n",
       "\n",
       "    .dataframe tbody tr th {\n",
       "        vertical-align: top;\n",
       "    }\n",
       "\n",
       "    .dataframe thead th {\n",
       "        text-align: right;\n",
       "    }\n",
       "</style>\n",
       "<table border=\"1\" class=\"dataframe\">\n",
       "  <thead>\n",
       "    <tr style=\"text-align: right;\">\n",
       "      <th></th>\n",
       "      <th>RowNumber</th>\n",
       "      <th>CustomerId</th>\n",
       "      <th>Surname</th>\n",
       "      <th>CreditScore</th>\n",
       "      <th>Geography</th>\n",
       "      <th>Gender</th>\n",
       "      <th>Age</th>\n",
       "      <th>Tenure</th>\n",
       "      <th>Balance</th>\n",
       "      <th>NumOfProducts</th>\n",
       "      <th>HasCrCard</th>\n",
       "      <th>IsActiveMember</th>\n",
       "      <th>EstimatedSalary</th>\n",
       "      <th>Exited</th>\n",
       "    </tr>\n",
       "  </thead>\n",
       "  <tbody>\n",
       "    <tr>\n",
       "      <th>0</th>\n",
       "      <td>1</td>\n",
       "      <td>15634602</td>\n",
       "      <td>Hargrave</td>\n",
       "      <td>619</td>\n",
       "      <td>France</td>\n",
       "      <td>Female</td>\n",
       "      <td>42</td>\n",
       "      <td>2.0</td>\n",
       "      <td>0.00</td>\n",
       "      <td>1</td>\n",
       "      <td>1</td>\n",
       "      <td>1</td>\n",
       "      <td>101348.88</td>\n",
       "      <td>1</td>\n",
       "    </tr>\n",
       "    <tr>\n",
       "      <th>1</th>\n",
       "      <td>2</td>\n",
       "      <td>15647311</td>\n",
       "      <td>Hill</td>\n",
       "      <td>608</td>\n",
       "      <td>Spain</td>\n",
       "      <td>Female</td>\n",
       "      <td>41</td>\n",
       "      <td>1.0</td>\n",
       "      <td>83807.86</td>\n",
       "      <td>1</td>\n",
       "      <td>0</td>\n",
       "      <td>1</td>\n",
       "      <td>112542.58</td>\n",
       "      <td>0</td>\n",
       "    </tr>\n",
       "    <tr>\n",
       "      <th>2</th>\n",
       "      <td>3</td>\n",
       "      <td>15619304</td>\n",
       "      <td>Onio</td>\n",
       "      <td>502</td>\n",
       "      <td>France</td>\n",
       "      <td>Female</td>\n",
       "      <td>42</td>\n",
       "      <td>8.0</td>\n",
       "      <td>159660.80</td>\n",
       "      <td>3</td>\n",
       "      <td>1</td>\n",
       "      <td>0</td>\n",
       "      <td>113931.57</td>\n",
       "      <td>1</td>\n",
       "    </tr>\n",
       "    <tr>\n",
       "      <th>3</th>\n",
       "      <td>4</td>\n",
       "      <td>15701354</td>\n",
       "      <td>Boni</td>\n",
       "      <td>699</td>\n",
       "      <td>France</td>\n",
       "      <td>Female</td>\n",
       "      <td>39</td>\n",
       "      <td>1.0</td>\n",
       "      <td>0.00</td>\n",
       "      <td>2</td>\n",
       "      <td>0</td>\n",
       "      <td>0</td>\n",
       "      <td>93826.63</td>\n",
       "      <td>0</td>\n",
       "    </tr>\n",
       "    <tr>\n",
       "      <th>4</th>\n",
       "      <td>5</td>\n",
       "      <td>15737888</td>\n",
       "      <td>Mitchell</td>\n",
       "      <td>850</td>\n",
       "      <td>Spain</td>\n",
       "      <td>Female</td>\n",
       "      <td>43</td>\n",
       "      <td>2.0</td>\n",
       "      <td>125510.82</td>\n",
       "      <td>1</td>\n",
       "      <td>1</td>\n",
       "      <td>1</td>\n",
       "      <td>79084.10</td>\n",
       "      <td>0</td>\n",
       "    </tr>\n",
       "    <tr>\n",
       "      <th>...</th>\n",
       "      <td>...</td>\n",
       "      <td>...</td>\n",
       "      <td>...</td>\n",
       "      <td>...</td>\n",
       "      <td>...</td>\n",
       "      <td>...</td>\n",
       "      <td>...</td>\n",
       "      <td>...</td>\n",
       "      <td>...</td>\n",
       "      <td>...</td>\n",
       "      <td>...</td>\n",
       "      <td>...</td>\n",
       "      <td>...</td>\n",
       "      <td>...</td>\n",
       "    </tr>\n",
       "    <tr>\n",
       "      <th>9995</th>\n",
       "      <td>9996</td>\n",
       "      <td>15606229</td>\n",
       "      <td>Obijiaku</td>\n",
       "      <td>771</td>\n",
       "      <td>France</td>\n",
       "      <td>Male</td>\n",
       "      <td>39</td>\n",
       "      <td>5.0</td>\n",
       "      <td>0.00</td>\n",
       "      <td>2</td>\n",
       "      <td>1</td>\n",
       "      <td>0</td>\n",
       "      <td>96270.64</td>\n",
       "      <td>0</td>\n",
       "    </tr>\n",
       "    <tr>\n",
       "      <th>9996</th>\n",
       "      <td>9997</td>\n",
       "      <td>15569892</td>\n",
       "      <td>Johnstone</td>\n",
       "      <td>516</td>\n",
       "      <td>France</td>\n",
       "      <td>Male</td>\n",
       "      <td>35</td>\n",
       "      <td>10.0</td>\n",
       "      <td>57369.61</td>\n",
       "      <td>1</td>\n",
       "      <td>1</td>\n",
       "      <td>1</td>\n",
       "      <td>101699.77</td>\n",
       "      <td>0</td>\n",
       "    </tr>\n",
       "    <tr>\n",
       "      <th>9997</th>\n",
       "      <td>9998</td>\n",
       "      <td>15584532</td>\n",
       "      <td>Liu</td>\n",
       "      <td>709</td>\n",
       "      <td>France</td>\n",
       "      <td>Female</td>\n",
       "      <td>36</td>\n",
       "      <td>7.0</td>\n",
       "      <td>0.00</td>\n",
       "      <td>1</td>\n",
       "      <td>0</td>\n",
       "      <td>1</td>\n",
       "      <td>42085.58</td>\n",
       "      <td>1</td>\n",
       "    </tr>\n",
       "    <tr>\n",
       "      <th>9998</th>\n",
       "      <td>9999</td>\n",
       "      <td>15682355</td>\n",
       "      <td>Sabbatini</td>\n",
       "      <td>772</td>\n",
       "      <td>Germany</td>\n",
       "      <td>Male</td>\n",
       "      <td>42</td>\n",
       "      <td>3.0</td>\n",
       "      <td>75075.31</td>\n",
       "      <td>2</td>\n",
       "      <td>1</td>\n",
       "      <td>0</td>\n",
       "      <td>92888.52</td>\n",
       "      <td>1</td>\n",
       "    </tr>\n",
       "    <tr>\n",
       "      <th>9999</th>\n",
       "      <td>10000</td>\n",
       "      <td>15628319</td>\n",
       "      <td>Walker</td>\n",
       "      <td>792</td>\n",
       "      <td>France</td>\n",
       "      <td>Female</td>\n",
       "      <td>28</td>\n",
       "      <td>NaN</td>\n",
       "      <td>130142.79</td>\n",
       "      <td>1</td>\n",
       "      <td>1</td>\n",
       "      <td>0</td>\n",
       "      <td>38190.78</td>\n",
       "      <td>0</td>\n",
       "    </tr>\n",
       "  </tbody>\n",
       "</table>\n",
       "<p>10000 rows × 14 columns</p>\n",
       "</div>"
      ],
      "text/plain": [
       "      RowNumber  CustomerId    Surname  CreditScore Geography  Gender  Age  \\\n",
       "0             1    15634602   Hargrave          619    France  Female   42   \n",
       "1             2    15647311       Hill          608     Spain  Female   41   \n",
       "2             3    15619304       Onio          502    France  Female   42   \n",
       "3             4    15701354       Boni          699    France  Female   39   \n",
       "4             5    15737888   Mitchell          850     Spain  Female   43   \n",
       "...         ...         ...        ...          ...       ...     ...  ...   \n",
       "9995       9996    15606229   Obijiaku          771    France    Male   39   \n",
       "9996       9997    15569892  Johnstone          516    France    Male   35   \n",
       "9997       9998    15584532        Liu          709    France  Female   36   \n",
       "9998       9999    15682355  Sabbatini          772   Germany    Male   42   \n",
       "9999      10000    15628319     Walker          792    France  Female   28   \n",
       "\n",
       "      Tenure    Balance  NumOfProducts  HasCrCard  IsActiveMember  \\\n",
       "0        2.0       0.00              1          1               1   \n",
       "1        1.0   83807.86              1          0               1   \n",
       "2        8.0  159660.80              3          1               0   \n",
       "3        1.0       0.00              2          0               0   \n",
       "4        2.0  125510.82              1          1               1   \n",
       "...      ...        ...            ...        ...             ...   \n",
       "9995     5.0       0.00              2          1               0   \n",
       "9996    10.0   57369.61              1          1               1   \n",
       "9997     7.0       0.00              1          0               1   \n",
       "9998     3.0   75075.31              2          1               0   \n",
       "9999     NaN  130142.79              1          1               0   \n",
       "\n",
       "      EstimatedSalary  Exited  \n",
       "0           101348.88       1  \n",
       "1           112542.58       0  \n",
       "2           113931.57       1  \n",
       "3            93826.63       0  \n",
       "4            79084.10       0  \n",
       "...               ...     ...  \n",
       "9995         96270.64       0  \n",
       "9996        101699.77       0  \n",
       "9997         42085.58       1  \n",
       "9998         92888.52       1  \n",
       "9999         38190.78       0  \n",
       "\n",
       "[10000 rows x 14 columns]"
      ]
     },
     "metadata": {},
     "output_type": "display_data"
    }
   ],
   "source": [
    "data = pd.read_csv('/datasets/Churn.csv')\n",
    "display(data)"
   ]
  },
  {
   "cell_type": "code",
   "execution_count": 3,
   "metadata": {},
   "outputs": [
    {
     "name": "stdout",
     "output_type": "stream",
     "text": [
      "<class 'pandas.core.frame.DataFrame'>\n",
      "RangeIndex: 10000 entries, 0 to 9999\n",
      "Data columns (total 14 columns):\n",
      " #   Column           Non-Null Count  Dtype  \n",
      "---  ------           --------------  -----  \n",
      " 0   RowNumber        10000 non-null  int64  \n",
      " 1   CustomerId       10000 non-null  int64  \n",
      " 2   Surname          10000 non-null  object \n",
      " 3   CreditScore      10000 non-null  int64  \n",
      " 4   Geography        10000 non-null  object \n",
      " 5   Gender           10000 non-null  object \n",
      " 6   Age              10000 non-null  int64  \n",
      " 7   Tenure           9091 non-null   float64\n",
      " 8   Balance          10000 non-null  float64\n",
      " 9   NumOfProducts    10000 non-null  int64  \n",
      " 10  HasCrCard        10000 non-null  int64  \n",
      " 11  IsActiveMember   10000 non-null  int64  \n",
      " 12  EstimatedSalary  10000 non-null  float64\n",
      " 13  Exited           10000 non-null  int64  \n",
      "dtypes: float64(3), int64(8), object(3)\n",
      "memory usage: 1.1+ MB\n"
     ]
    }
   ],
   "source": [
    "data.info()"
   ]
  },
  {
   "cell_type": "code",
   "execution_count": 4,
   "metadata": {},
   "outputs": [],
   "source": [
    "data = data.drop(columns = ['RowNumber', 'CustomerId', 'Surname'])"
   ]
  },
  {
   "cell_type": "code",
   "execution_count": 5,
   "metadata": {},
   "outputs": [
    {
     "name": "stdout",
     "output_type": "stream",
     "text": [
      "CreditScore          int64\n",
      "Geography           object\n",
      "Gender              object\n",
      "Age                  int64\n",
      "Tenure             float64\n",
      "Balance            float64\n",
      "NumOfProducts        int64\n",
      "HasCrCard            int64\n",
      "IsActiveMember       int64\n",
      "EstimatedSalary    float64\n",
      "Exited               int64\n",
      "dtype: object\n"
     ]
    }
   ],
   "source": [
    "print(data.dtypes)"
   ]
  },
  {
   "cell_type": "code",
   "execution_count": 6,
   "metadata": {},
   "outputs": [],
   "source": [
    "data = data.dropna()"
   ]
  },
  {
   "cell_type": "code",
   "execution_count": 7,
   "metadata": {},
   "outputs": [],
   "source": [
    "data_train, data_common = train_test_split(data,  test_size = 0.4, random_state = 12345)\n",
    "data_valid, data_test = train_test_split(data_common,  test_size = 0.5, random_state = 12345)"
   ]
  },
  {
   "cell_type": "markdown",
   "metadata": {},
   "source": [
    "Разбили данные на три выборки: обучающую, валидационную и тестовую, соотношение 3:1:1 (60% : 20% : 20%)"
   ]
  },
  {
   "cell_type": "code",
   "execution_count": 8,
   "metadata": {},
   "outputs": [],
   "source": [
    "features_train = data_train.drop(['Exited'], axis=1)\n",
    "target_train = data_train['Exited']\n",
    "features_valid = data_valid.drop(['Exited'], axis=1)\n",
    "target_valid = data_valid['Exited'] \n",
    "features_test = data_test.drop(['Exited'], axis=1)\n",
    "target_test = data_test['Exited']"
   ]
  },
  {
   "cell_type": "markdown",
   "metadata": {},
   "source": [
    "features - признаки\n",
    "target - целевой признак"
   ]
  },
  {
   "cell_type": "markdown",
   "metadata": {},
   "source": [
    "С помощью техники ohe преобразуем категориальные признаки в численные:"
   ]
  },
  {
   "cell_type": "code",
   "execution_count": 9,
   "metadata": {},
   "outputs": [],
   "source": [
    "features_train = pd.get_dummies(features_train, drop_first=True)\n",
    "features_valid = pd.get_dummies(features_valid, drop_first=True)\n",
    "features_test = pd.get_dummies(features_test, drop_first=True)"
   ]
  },
  {
   "cell_type": "markdown",
   "metadata": {},
   "source": [
    "Поскольку в данных присутствуют количественные признаки с разными разбросами значений, нужно привести признаки к одному масштабу:"
   ]
  },
  {
   "cell_type": "code",
   "execution_count": 10,
   "metadata": {},
   "outputs": [],
   "source": [
    "numeric = ['CreditScore', 'Age', 'Tenure', 'Balance', 'NumOfProducts', 'HasCrCard', 'IsActiveMember', 'EstimatedSalary']\n",
    "pd.options.mode.chained_assignment = None\n",
    "scaler = StandardScaler()\n",
    "scaler.fit(features_train[numeric])\n",
    "features_train[numeric] = scaler.transform(features_train[numeric])\n",
    "features_valid[numeric] = scaler.transform(features_valid[numeric])\n",
    "features_test[numeric] = scaler.transform(features_test[numeric])"
   ]
  },
  {
   "cell_type": "markdown",
   "metadata": {},
   "source": [
    "Проверяем размеры выборок:"
   ]
  },
  {
   "cell_type": "code",
   "execution_count": 11,
   "metadata": {},
   "outputs": [
    {
     "name": "stdout",
     "output_type": "stream",
     "text": [
      "(5454, 11)\n",
      "(5454,)\n",
      "(1818, 11)\n",
      "(1818,)\n",
      "(1819, 11)\n",
      "(1819,)\n"
     ]
    }
   ],
   "source": [
    "print(features_train.shape)\n",
    "print(target_train.shape)\n",
    "print(features_valid.shape)\n",
    "print(target_valid.shape)\n",
    "print(features_test.shape)\n",
    "print(target_test.shape)"
   ]
  },
  {
   "cell_type": "markdown",
   "metadata": {},
   "source": [
    "## Исследование задачи"
   ]
  },
  {
   "cell_type": "markdown",
   "metadata": {},
   "source": [
    "Дерево решений без учета дисбаланса классов:"
   ]
  },
  {
   "cell_type": "code",
   "execution_count": 12,
   "metadata": {},
   "outputs": [
    {
     "name": "stdout",
     "output_type": "stream",
     "text": [
      "Accuracy наилучшей модели на валидационной выборке: 0.8575357535753575\n"
     ]
    }
   ],
   "source": [
    "best_result = 0\n",
    "best_model_decision_tree = None\n",
    "for depth in range(1, 6):\n",
    "    model_decision_tree = DecisionTreeClassifier(random_state=12345, max_depth = depth)\n",
    "    model_decision_tree.fit(features_train, target_train)\n",
    "    predictions_valid =  model_decision_tree.predict(features_valid)\n",
    "    result = accuracy_score(target_valid, predictions_valid)\n",
    "    if result > best_result:\n",
    "        best_model_decision_tree = model_decision_tree\n",
    "        best_result = result \n",
    "\n",
    "print(\"Accuracy наилучшей модели на валидационной выборке:\", best_result)"
   ]
  },
  {
   "cell_type": "markdown",
   "metadata": {},
   "source": [
    "Создали константную модель:"
   ]
  },
  {
   "cell_type": "code",
   "execution_count": 13,
   "metadata": {},
   "outputs": [
    {
     "name": "stdout",
     "output_type": "stream",
     "text": [
      "0.7926292629262927\n"
     ]
    }
   ],
   "source": [
    "target_pred_constant = pd.Series([0]*len(target_valid))\n",
    "print(accuracy_score(target_valid, target_pred_constant))"
   ]
  },
  {
   "cell_type": "markdown",
   "metadata": {},
   "source": [
    "Accuracy решающего дерева и константной модели почти одинаковы.\n",
    "В задаче наблюдается дисбаланс классов. Для оценки качества модели accuracy не подходит."
   ]
  },
  {
   "cell_type": "code",
   "execution_count": 14,
   "metadata": {},
   "outputs": [
    {
     "name": "stdout",
     "output_type": "stream",
     "text": [
      "F1 мера наилучшей модели на валидационной выборке: 0.5414551607445008\n"
     ]
    }
   ],
   "source": [
    "best_result = 0\n",
    "best_model_decision_tree = None\n",
    "for depth in range(1, 6):\n",
    "    model_decision_tree = DecisionTreeClassifier(random_state=12345, max_depth = depth)\n",
    "    model_decision_tree.fit(features_train, target_train)\n",
    "    predicted_valid =  model_decision_tree.predict(features_valid)\n",
    "    result = f1_score(target_valid, predicted_valid)\n",
    "    if result > best_result:\n",
    "        best_model_decision_tree = model_decision_tree\n",
    "        best_result = result \n",
    "print(\"F1 мера наилучшей модели на валидационной выборке:\", best_result)"
   ]
  },
  {
   "cell_type": "markdown",
   "metadata": {},
   "source": [
    "Случайный лес без учета дисбаланса классов:"
   ]
  },
  {
   "cell_type": "code",
   "execution_count": 15,
   "metadata": {},
   "outputs": [
    {
     "name": "stdout",
     "output_type": "stream",
     "text": [
      "F1 мера наилучшей модели на валидационной выборке: 0.569364161849711\n"
     ]
    }
   ],
   "source": [
    "best_model_forest = None\n",
    "best_result = 0\n",
    "for est in range(1, 11):\n",
    "    for depth in range (1, 11):\n",
    "        model_forest = RandomForestClassifier(random_state=12345, n_estimators=est, max_depth=depth)\n",
    "        model_forest.fit(features_train, target_train) \n",
    "        predicted_valid =  model_forest.predict(features_valid)\n",
    "        result = f1_score(target_valid, predicted_valid)\n",
    "        if result > best_result:\n",
    "            best_model_forest = model_forest\n",
    "            best_result = result\n",
    "print(\"F1 мера наилучшей модели на валидационной выборке:\", best_result)"
   ]
  },
  {
   "cell_type": "markdown",
   "metadata": {},
   "source": [
    "Логистическая регрессия без учета дисбаланса классов:"
   ]
  },
  {
   "cell_type": "code",
   "execution_count": 16,
   "metadata": {},
   "outputs": [
    {
     "name": "stdout",
     "output_type": "stream",
     "text": [
      "F1 мера наилучшей модели на валидационной выборке: 0.3033932135728543\n"
     ]
    }
   ],
   "source": [
    "model_regression = LogisticRegression(random_state=12345, solver='lbfgs', max_iter=1000) \n",
    "model_regression.fit(features_train, target_train)\n",
    "predicted_valid =  model_regression.predict(features_valid) \n",
    "dump(model_regression, 'model_9_1.joblib')\n",
    "print(\"F1 мера наилучшей модели на валидационной выборке:\", f1_score(target_valid, predicted_valid))"
   ]
  },
  {
   "cell_type": "markdown",
   "metadata": {},
   "source": [
    "F1-мера\n",
    "\n",
    "Дерево решений без учета дисбаланса классов: 0.5414551607445008\n",
    "\n",
    "Случайный лес без учета дисбаланса классов: 0.569364161849711\n",
    "\n",
    "Логистическая регрессия без учета дисбаланса классов: 0.303393213572854"
   ]
  },
  {
   "cell_type": "markdown",
   "metadata": {},
   "source": [
    "Дисбаланс классов плохо сказывается на обучении модели. "
   ]
  },
  {
   "cell_type": "markdown",
   "metadata": {},
   "source": [
    "## Борьба с дисбалансом"
   ]
  },
  {
   "cell_type": "code",
   "execution_count": 17,
   "metadata": {},
   "outputs": [
    {
     "name": "stdout",
     "output_type": "stream",
     "text": [
      "0    0.793546\n",
      "1    0.206454\n",
      "Name: Exited, dtype: float64\n"
     ]
    },
    {
     "data": {
      "text/plain": [
       "<AxesSubplot:>"
      ]
     },
     "execution_count": 17,
     "metadata": {},
     "output_type": "execute_result"
    },
    {
     "data": {
      "image/png": "[encoded data removed]",
      "text/plain": [
       "<Figure size 432x288 with 1 Axes>"
      ]
     },
     "metadata": {
      "needs_background": "light"
     },
     "output_type": "display_data"
    }
   ],
   "source": [
    "class_frequency = data_train['Exited'].value_counts(normalize = True)\n",
    "print(class_frequency)\n",
    "class_frequency.plot(kind='bar')"
   ]
  },
  {
   "cell_type": "markdown",
   "metadata": {},
   "source": [
    "Для борьбы с дисбалансом классов используем class_weight, техники upsampling и downsampling."
   ]
  },
  {
   "cell_type": "markdown",
   "metadata": {},
   "source": [
    "# upsample"
   ]
  },
  {
   "cell_type": "code",
   "execution_count": 18,
   "metadata": {},
   "outputs": [],
   "source": [
    "def upsample(features, target, repeat):\n",
    "    features_zeros = features[target == 0]\n",
    "    features_ones = features[target == 1]\n",
    "    target_zeros = target[target == 0]\n",
    "    target_ones = target[target == 1]\n",
    "    features_upsampled = pd.concat([features_zeros] + [features_ones] * repeat)\n",
    "    target_upsampled = pd.concat([target_zeros] + [target_ones] * repeat)\n",
    "    features_upsampled, target_upsampled = shuffle(features_upsampled, target_upsampled, random_state=12345)\n",
    "    return features_upsampled, target_upsampled\n",
    "\n",
    "features_upsampled, target_upsampled = upsample(features_train, target_train, 3)"
   ]
  },
  {
   "cell_type": "markdown",
   "metadata": {},
   "source": [
    "Дерево решений:"
   ]
  },
  {
   "cell_type": "code",
   "execution_count": 19,
   "metadata": {},
   "outputs": [
    {
     "name": "stdout",
     "output_type": "stream",
     "text": [
      "F1 мера наилучшей модели на валидационной выборке: 0.5929526123936817\n"
     ]
    }
   ],
   "source": [
    "best_result = 0\n",
    "best_model_decision_tree_upsample = None\n",
    "for depth in range(1, 6):\n",
    "    model_decision_tree = DecisionTreeClassifier(random_state=12345, max_depth = depth)\n",
    "    model_decision_tree.fit(features_upsampled, target_upsampled)\n",
    "    predicted_valid =  model_decision_tree.predict(features_valid)\n",
    "    result = f1_score(target_valid, predicted_valid)\n",
    "    if result > best_result:\n",
    "        best_model_decision_tree_upsample = model_decision_tree\n",
    "        best_result = result \n",
    "print(\"F1 мера наилучшей модели на валидационной выборке:\", best_result)"
   ]
  },
  {
   "cell_type": "code",
   "execution_count": 20,
   "metadata": {},
   "outputs": [
    {
     "name": "stdout",
     "output_type": "stream",
     "text": [
      "AUC-ROC наилучшей модели на валидационной выборке: 0.8400158672598789\n"
     ]
    }
   ],
   "source": [
    "probabilities_valid = best_model_decision_tree_upsample.predict_proba(features_valid)\n",
    "probabilities_one_valid = probabilities_valid[:, 1]\n",
    "print(\"AUC-ROC наилучшей модели на валидационной выборке:\", roc_auc_score(target_valid, probabilities_one_valid))"
   ]
  },
  {
   "cell_type": "markdown",
   "metadata": {},
   "source": [
    "Случайный лес:"
   ]
  },
  {
   "cell_type": "code",
   "execution_count": 21,
   "metadata": {},
   "outputs": [
    {
     "name": "stdout",
     "output_type": "stream",
     "text": [
      "F1 мера наилучшей модели на валидационной выборке: 0.6349999999999999\n"
     ]
    }
   ],
   "source": [
    "best_model_forest_upsample = None\n",
    "best_result = 0\n",
    "for est in range(1, 11):\n",
    "    for depth in range (1, 11):\n",
    "        model_forest = RandomForestClassifier(random_state=12345, n_estimators=est, max_depth=depth)\n",
    "        model_forest.fit(features_upsampled, target_upsampled) \n",
    "        predicted_valid =  model_forest.predict(features_valid)\n",
    "        result = f1_score(target_valid, predicted_valid)\n",
    "        if result > best_result:\n",
    "            best_model_forest_upsample = model_forest\n",
    "            best_result = result\n",
    "print(\"F1 мера наилучшей модели на валидационной выборке:\", best_result)"
   ]
  },
  {
   "cell_type": "code",
   "execution_count": 22,
   "metadata": {},
   "outputs": [
    {
     "name": "stdout",
     "output_type": "stream",
     "text": [
      "AUC-ROC наилучшей модели на валидационной выборке: 0.8628779748811336\n"
     ]
    }
   ],
   "source": [
    "probabilities_valid = best_model_forest_upsample.predict_proba(features_valid)\n",
    "probabilities_one_valid = probabilities_valid[:, 1]\n",
    "print(\"AUC-ROC наилучшей модели на валидационной выборке:\", roc_auc_score(target_valid, probabilities_one_valid))"
   ]
  },
  {
   "cell_type": "markdown",
   "metadata": {},
   "source": [
    "Логистическая регрессия:"
   ]
  },
  {
   "cell_type": "code",
   "execution_count": 23,
   "metadata": {},
   "outputs": [
    {
     "name": "stdout",
     "output_type": "stream",
     "text": [
      "F1 мера наилучшей модели на валидационной выборке: 0.5050055617352613\n"
     ]
    }
   ],
   "source": [
    "model_regression_upsample = LogisticRegression(random_state=12345, solver='liblinear', max_iter=1000) \n",
    "model_regression_upsample.fit(features_upsampled, target_upsampled)\n",
    "predicted_valid = model_regression_upsample.predict(features_valid) \n",
    "print(\"F1 мера наилучшей модели на валидационной выборке:\", f1_score(target_valid, predicted_valid))"
   ]
  },
  {
   "cell_type": "code",
   "execution_count": 24,
   "metadata": {},
   "outputs": [
    {
     "name": "stdout",
     "output_type": "stream",
     "text": [
      "AUC-ROC наилучшей модели на валидационной выборке: 0.7773558371084035\n"
     ]
    }
   ],
   "source": [
    "probabilities_valid = model_regression_upsample.predict_proba(features_valid)\n",
    "probabilities_one_valid = probabilities_valid[:, 1]\n",
    "print(\"AUC-ROC наилучшей модели на валидационной выборке:\", roc_auc_score(target_valid, probabilities_one_valid))"
   ]
  },
  {
   "cell_type": "markdown",
   "metadata": {},
   "source": [
    "F1-мера\n",
    "\n",
    "Дерево решений upsampling: 0.5902439024390244\n",
    "\n",
    "Случайный лес upsampling: 0.5371775417298937\n",
    "\n",
    "Логистическая регрессия upsampling: 0.47016706443914086\n",
    "\n",
    "AUC-ROC\n",
    "\n",
    "Дерево решений upsampling: 0.8354075511222129\n",
    "\n",
    "Случайный лес upsampling: 0.7977771110174374\n",
    "\n",
    "Логистическая регрессия upsampling: 0.7371152143460645"
   ]
  },
  {
   "cell_type": "markdown",
   "metadata": {},
   "source": [
    "# downsample"
   ]
  },
  {
   "cell_type": "code",
   "execution_count": 25,
   "metadata": {},
   "outputs": [],
   "source": [
    "def downsample(features, target, fraction):\n",
    "    features_zeros = features[target == 0]\n",
    "    features_ones = features[target == 1]\n",
    "    target_zeros = target[target == 0]\n",
    "    target_ones = target[target == 1]\n",
    "\n",
    "    features_downsampled = pd.concat([features_zeros.sample(frac=fraction, random_state=12345)] + [features_ones])\n",
    "    target_downsampled = pd.concat([target_zeros.sample(frac=fraction, random_state=12345)] + [target_ones])\n",
    "    features_downsampled, target_downsampled = shuffle(features_downsampled, target_downsampled, random_state=12345)\n",
    "    return features_downsampled, target_downsampled\n",
    "\n",
    "features_downsampled, target_downsampled = downsample(features_train, target_train, 0.66)"
   ]
  },
  {
   "cell_type": "markdown",
   "metadata": {},
   "source": [
    "Дерево решений:"
   ]
  },
  {
   "cell_type": "code",
   "execution_count": 26,
   "metadata": {},
   "outputs": [
    {
     "name": "stdout",
     "output_type": "stream",
     "text": [
      "F1 мера наилучшей модели на валидационной выборке: 0.5926892950391645\n"
     ]
    }
   ],
   "source": [
    "best_result = 0\n",
    "best_model_decision_tree_downsample = None\n",
    "for depth in range(1, 6):\n",
    "    model_decision_tree = DecisionTreeClassifier(random_state=12345, max_depth = depth)\n",
    "    model_decision_tree.fit(features_downsampled, target_downsampled)\n",
    "    predicted_valid =  model_decision_tree.predict(features_valid)\n",
    "    result = f1_score(target_valid, predicted_valid)\n",
    "    if result > best_result:\n",
    "        best_model_decision_tree_downsample = model_decision_tree\n",
    "        best_result = result \n",
    "print(\"F1 мера наилучшей модели на валидационной выборке:\", best_result)"
   ]
  },
  {
   "cell_type": "code",
   "execution_count": 27,
   "metadata": {},
   "outputs": [
    {
     "name": "stdout",
     "output_type": "stream",
     "text": [
      "AUC-ROC наилучшей модели на валидационной выборке: 0.8425432161941769\n"
     ]
    }
   ],
   "source": [
    "probabilities_valid = best_model_decision_tree_downsample.predict_proba(features_valid)\n",
    "probabilities_one_valid = probabilities_valid[:, 1]\n",
    "print(\"AUC-ROC наилучшей модели на валидационной выборке:\", roc_auc_score(target_valid, probabilities_one_valid))"
   ]
  },
  {
   "cell_type": "markdown",
   "metadata": {},
   "source": [
    "Случайный лес:"
   ]
  },
  {
   "cell_type": "code",
   "execution_count": 28,
   "metadata": {},
   "outputs": [
    {
     "name": "stdout",
     "output_type": "stream",
     "text": [
      "F1 мера наилучшей модели на валидационной выборке: 0.6115444617784712\n"
     ]
    }
   ],
   "source": [
    "best_model_forest = None\n",
    "best_result = 0\n",
    "for est in range(1, 11):\n",
    "    for depth in range (1, 11):\n",
    "        model_forest = RandomForestClassifier(random_state=12345, n_estimators=est, max_depth=depth)\n",
    "        model_forest.fit(features_downsampled, target_downsampled) \n",
    "        predicted_valid =  model_forest.predict(features_valid)\n",
    "        result = f1_score(target_valid, predicted_valid)\n",
    "        if result > best_result:\n",
    "            best_model_forest_downsample = model_forest\n",
    "            best_result = result\n",
    "print(\"F1 мера наилучшей модели на валидационной выборке:\", best_result)"
   ]
  },
  {
   "cell_type": "code",
   "execution_count": 29,
   "metadata": {},
   "outputs": [
    {
     "name": "stdout",
     "output_type": "stream",
     "text": [
      "AUC-ROC наилучшей модели на валидационной выборке: 0.8624555228924801\n"
     ]
    }
   ],
   "source": [
    "probabilities_valid = best_model_forest_downsample.predict_proba(features_valid)\n",
    "probabilities_one_valid = probabilities_valid[:, 1]\n",
    "print(\"AUC-ROC наилучшей модели на валидационной выборке:\", roc_auc_score(target_valid, probabilities_one_valid))"
   ]
  },
  {
   "cell_type": "markdown",
   "metadata": {},
   "source": [
    "Логистическая регрессия:"
   ]
  },
  {
   "cell_type": "code",
   "execution_count": 30,
   "metadata": {},
   "outputs": [
    {
     "name": "stdout",
     "output_type": "stream",
     "text": [
      "F1 мера наилучшей модели на валидационной выборке: 0.4150326797385621\n"
     ]
    }
   ],
   "source": [
    "model_regression_downsample = LogisticRegression(random_state=12345, solver='liblinear', max_iter=1000) \n",
    "model_regression_downsample.fit(features_downsampled, target_downsampled)\n",
    "predicted_valid = model_regression_downsample.predict(features_valid)\n",
    "print(\"F1 мера наилучшей модели на валидационной выборке:\", f1_score(target_valid, predicted_valid))"
   ]
  },
  {
   "cell_type": "code",
   "execution_count": 31,
   "metadata": {},
   "outputs": [
    {
     "name": "stdout",
     "output_type": "stream",
     "text": [
      "AUC-ROC наилучшей модели на валидационной выборке: 0.7746683429757922\n"
     ]
    }
   ],
   "source": [
    "probabilities_valid = model_regression_downsample.predict_proba(features_valid)\n",
    "probabilities_one_valid = probabilities_valid[:, 1]\n",
    "print(\"AUC-ROC наилучшей модели на валидационной выборке:\", roc_auc_score(target_valid, probabilities_one_valid))"
   ]
  },
  {
   "cell_type": "markdown",
   "metadata": {},
   "source": [
    "F1-мера\n",
    "\n",
    "Дерево решений downsampling: 0.59375\n",
    "\n",
    "Случайный лес downsampling: 0.21559633027522934\n",
    "\n",
    "Логистическая регрессия downsampling: 0.42022116903633494\n",
    "\n",
    "AUC-ROC\n",
    "\n",
    "Дерево решений downsampling: 0.8427475393782318\n",
    "\n",
    "Случайный лес downsampling: 0.7512079917976205\n",
    "\n",
    "Логистическая регрессия downsampling: 0.7535531065407347"
   ]
  },
  {
   "cell_type": "markdown",
   "metadata": {},
   "source": [
    "# class_weight"
   ]
  },
  {
   "cell_type": "markdown",
   "metadata": {},
   "source": [
    "Дерево решений:"
   ]
  },
  {
   "cell_type": "code",
   "execution_count": 32,
   "metadata": {},
   "outputs": [
    {
     "name": "stdout",
     "output_type": "stream",
     "text": [
      "F1 мера наилучшей модели на валидационной выборке: 0.5735449735449736\n"
     ]
    }
   ],
   "source": [
    "best_result = 0\n",
    "best_model_decision_tree_class_weight = None\n",
    "for depth in range(1, 6):\n",
    "    model_decision_tree = DecisionTreeClassifier(random_state=12345, max_depth = depth, class_weight = 'balanced')\n",
    "    model_decision_tree.fit(features_train, target_train)\n",
    "    predicted_valid =  model_decision_tree.predict(features_valid)\n",
    "    result = f1_score(target_valid, predicted_valid)\n",
    "    if result > best_result:\n",
    "        best_model_decision_tree_class_weight = model_decision_tree\n",
    "        best_result = result \n",
    "print(\"F1 мера наилучшей модели на валидационной выборке:\", best_result)"
   ]
  },
  {
   "cell_type": "code",
   "execution_count": 33,
   "metadata": {},
   "outputs": [
    {
     "name": "stdout",
     "output_type": "stream",
     "text": [
      "AUC-ROC наилучшей модели на валидационной выборке: 0.8396523192522141\n"
     ]
    }
   ],
   "source": [
    "probabilities_valid = best_model_decision_tree_class_weight.predict_proba(features_valid)\n",
    "probabilities_one_valid = probabilities_valid[:, 1]\n",
    "print(\"AUC-ROC наилучшей модели на валидационной выборке:\", roc_auc_score(target_valid, probabilities_one_valid))"
   ]
  },
  {
   "cell_type": "markdown",
   "metadata": {},
   "source": [
    "Случайный лес:"
   ]
  },
  {
   "cell_type": "code",
   "execution_count": 34,
   "metadata": {},
   "outputs": [
    {
     "name": "stdout",
     "output_type": "stream",
     "text": [
      "F1 мера наилучшей модели на валидационной выборке: 0.6497584541062802\n"
     ]
    }
   ],
   "source": [
    "best_model_forest_class_weight = None\n",
    "best_result = 0\n",
    "for est in range(1, 11):\n",
    "    for depth in range (1, 11):\n",
    "        model_forest = RandomForestClassifier(random_state=12345, n_estimators=est, max_depth=depth, class_weight = 'balanced')\n",
    "        model_forest.fit(features_train, target_train) \n",
    "        predicted_valid =  model_forest.predict(features_valid)\n",
    "        result = f1_score(target_valid, predicted_valid)\n",
    "        if result > best_result:\n",
    "            best_model_forest_class_weight = model_forest\n",
    "            best_result = result\n",
    "print(\"F1 мера наилучшей модели на валидационной выборке:\", best_result)"
   ]
  },
  {
   "cell_type": "code",
   "execution_count": 35,
   "metadata": {},
   "outputs": [
    {
     "name": "stdout",
     "output_type": "stream",
     "text": [
      "AUC-ROC наилучшей модели на валидационной выборке: 0.8690573706367336\n"
     ]
    }
   ],
   "source": [
    "probabilities_valid = best_model_forest_class_weight.predict_proba(features_valid)\n",
    "probabilities_one_valid = probabilities_valid[:, 1]\n",
    "print(\"AUC-ROC наилучшей модели на валидационной выборке:\", roc_auc_score(target_valid, probabilities_one_valid))"
   ]
  },
  {
   "cell_type": "markdown",
   "metadata": {},
   "source": [
    "Логистическая регрессия:"
   ]
  },
  {
   "cell_type": "code",
   "execution_count": 36,
   "metadata": {},
   "outputs": [
    {
     "name": "stdout",
     "output_type": "stream",
     "text": [
      "F1 мера наилучшей модели на валидационной выборке: 0.5092592592592593\n"
     ]
    }
   ],
   "source": [
    "model_regression_balanced = LogisticRegression(random_state=12345, solver='liblinear', class_weight = 'balanced')\n",
    "model_regression_balanced.fit(features_train, target_train)\n",
    "predicted_valid = model_regression_balanced.predict(features_valid)\n",
    "print(\"F1 мера наилучшей модели на валидационной выборке:\", f1_score(target_valid, predicted_valid))"
   ]
  },
  {
   "cell_type": "code",
   "execution_count": 37,
   "metadata": {},
   "outputs": [
    {
     "name": "stdout",
     "output_type": "stream",
     "text": [
      "AUC-ROC наилучшей модели на валидационной выборке: 0.7777681649753247\n"
     ]
    }
   ],
   "source": [
    "probabilities_valid = model_regression_balanced.predict_proba(features_valid)\n",
    "probabilities_one_valid = probabilities_valid[:, 1]\n",
    "print(\"AUC-ROC наилучшей модели на валидационной выборке:\", roc_auc_score(target_valid, probabilities_one_valid))"
   ]
  },
  {
   "cell_type": "markdown",
   "metadata": {},
   "source": [
    "F1-мера\n",
    "\n",
    "Дерево решений class_weight: 0.5711252653927813\n",
    "\n",
    "Случайный лес class_weight: 0.5387840670859538\n",
    "\n",
    "Логистическая регрессия class_weight: 0.4818276220145379\n",
    "\n",
    "AUC-ROC\n",
    "\n",
    "Дерево решений class_weight: 0.8356127946809706\n",
    "\n",
    "Случайный лес class_weight: 0.7902024272121667\n",
    "\n",
    "Логистическая регрессия class_weight: 0.7462563758957547"
   ]
  },
  {
   "cell_type": "markdown",
   "metadata": {},
   "source": [
    "С помощью техники upsampling получили самое высокое значение метрики f1 на дереве решений: 0.5929526123936817.\n",
    "\n",
    "С помощью class_weight получили самое высокое значение метрики f1 на логистической регрессии: 0.5092592592592593\n",
    "\n",
    "С помощью class_weight получили самое высокое значение метрики f1 на случайном лесе: 0.6497584541062802\n",
    "\n",
    "\n",
    "С помощью техники downsampling получили самое высокое значение метрики AUC-ROC на дереве решений: 0.8425432161941769.\n",
    "\n",
    "С помощью техники downsampling получили самое высокое значение метрики AUC-ROC на логистической регрессии: 0.7777681649753247.\n",
    "\n",
    "С помощью техники class_weight получили самое высокое значение метрики AUC-ROC на случайном лесе: 0.8690573706367336."
   ]
  },
  {
   "cell_type": "markdown",
   "metadata": {},
   "source": [
    "## Тестирование модели"
   ]
  },
  {
   "cell_type": "code",
   "execution_count": 38,
   "metadata": {},
   "outputs": [
    {
     "name": "stdout",
     "output_type": "stream",
     "text": [
      "Тестовая выборка: 0.5936675461741425\n"
     ]
    }
   ],
   "source": [
    "predicted_test = best_model_forest_class_weight.predict(features_test)\n",
    "print(\"Тестовая выборка:\", f1_score(target_test, predicted_test))"
   ]
  }
 ],
 "metadata": {
  "ExecuteTimeLog": [
   {
    "duration": 504,
    "start_time": "2023-01-03T12:16:12.380Z"
   },
   {
    "duration": 108,
    "start_time": "2023-01-03T12:16:14.457Z"
   },
   {
    "duration": 3,
    "start_time": "2023-01-03T12:21:53.760Z"
   },
   {
    "duration": 1232,
    "start_time": "2023-01-03T12:21:54.387Z"
   },
   {
    "duration": 3,
    "start_time": "2023-01-03T12:31:48.936Z"
   },
   {
    "duration": 80,
    "start_time": "2023-01-03T12:31:50.580Z"
   },
   {
    "duration": 79,
    "start_time": "2023-01-03T12:32:03.519Z"
   },
   {
    "duration": 15,
    "start_time": "2023-01-03T12:34:26.301Z"
   },
   {
    "duration": 761,
    "start_time": "2023-01-03T12:42:55.240Z"
   },
   {
    "duration": 68,
    "start_time": "2023-01-03T12:42:56.003Z"
   },
   {
    "duration": 13,
    "start_time": "2023-01-03T12:43:03.309Z"
   },
   {
    "duration": 10,
    "start_time": "2023-01-03T12:43:05.839Z"
   },
   {
    "duration": 9,
    "start_time": "2023-01-03T12:45:08.021Z"
   },
   {
    "duration": 5,
    "start_time": "2023-01-03T12:45:08.857Z"
   },
   {
    "duration": 1038,
    "start_time": "2023-01-06T11:19:26.343Z"
   },
   {
    "duration": 105,
    "start_time": "2023-01-06T11:19:27.383Z"
   },
   {
    "duration": 12,
    "start_time": "2023-01-06T11:19:27.490Z"
   },
   {
    "duration": 8,
    "start_time": "2023-01-06T11:19:27.504Z"
   },
   {
    "duration": 7,
    "start_time": "2023-01-06T11:19:27.513Z"
   },
   {
    "duration": 11,
    "start_time": "2023-01-06T11:19:27.522Z"
   },
   {
    "duration": 123,
    "start_time": "2023-01-06T11:19:27.534Z"
   },
   {
    "duration": 0,
    "start_time": "2023-01-06T11:19:27.658Z"
   },
   {
    "duration": 0,
    "start_time": "2023-01-06T11:19:27.660Z"
   },
   {
    "duration": 1099,
    "start_time": "2023-01-06T11:27:29.836Z"
   },
   {
    "duration": 73,
    "start_time": "2023-01-06T11:27:30.937Z"
   },
   {
    "duration": 17,
    "start_time": "2023-01-06T11:27:31.012Z"
   },
   {
    "duration": 20,
    "start_time": "2023-01-06T11:27:31.031Z"
   },
   {
    "duration": 211,
    "start_time": "2023-01-06T11:27:31.054Z"
   },
   {
    "duration": 123,
    "start_time": "2023-01-06T11:27:31.267Z"
   },
   {
    "duration": 40,
    "start_time": "2023-01-06T11:27:31.391Z"
   },
   {
    "duration": 4,
    "start_time": "2023-01-06T11:27:31.433Z"
   },
   {
    "duration": 229,
    "start_time": "2023-01-06T11:27:31.438Z"
   },
   {
    "duration": 0,
    "start_time": "2023-01-06T11:27:31.669Z"
   },
   {
    "duration": 0,
    "start_time": "2023-01-06T11:27:31.670Z"
   },
   {
    "duration": 1022,
    "start_time": "2023-01-06T11:41:23.976Z"
   },
   {
    "duration": 64,
    "start_time": "2023-01-06T11:41:25.000Z"
   },
   {
    "duration": 12,
    "start_time": "2023-01-06T11:41:25.066Z"
   },
   {
    "duration": 4,
    "start_time": "2023-01-06T11:41:25.080Z"
   },
   {
    "duration": 291,
    "start_time": "2023-01-06T11:41:25.085Z"
   },
   {
    "duration": 0,
    "start_time": "2023-01-06T11:41:25.377Z"
   },
   {
    "duration": 0,
    "start_time": "2023-01-06T11:41:25.378Z"
   },
   {
    "duration": 0,
    "start_time": "2023-01-06T11:41:25.380Z"
   },
   {
    "duration": 0,
    "start_time": "2023-01-06T11:41:25.381Z"
   },
   {
    "duration": 0,
    "start_time": "2023-01-06T11:41:25.382Z"
   },
   {
    "duration": 0,
    "start_time": "2023-01-06T11:41:25.383Z"
   },
   {
    "duration": 1016,
    "start_time": "2023-01-06T11:42:02.871Z"
   },
   {
    "duration": 61,
    "start_time": "2023-01-06T11:42:03.889Z"
   },
   {
    "duration": 11,
    "start_time": "2023-01-06T11:42:03.952Z"
   },
   {
    "duration": 4,
    "start_time": "2023-01-06T11:42:03.964Z"
   },
   {
    "duration": 309,
    "start_time": "2023-01-06T11:42:03.970Z"
   },
   {
    "duration": 0,
    "start_time": "2023-01-06T11:42:04.281Z"
   },
   {
    "duration": 0,
    "start_time": "2023-01-06T11:42:04.282Z"
   },
   {
    "duration": 0,
    "start_time": "2023-01-06T11:42:04.283Z"
   },
   {
    "duration": 0,
    "start_time": "2023-01-06T11:42:04.284Z"
   },
   {
    "duration": 0,
    "start_time": "2023-01-06T11:42:04.284Z"
   },
   {
    "duration": 0,
    "start_time": "2023-01-06T11:42:04.285Z"
   },
   {
    "duration": 1087,
    "start_time": "2023-01-06T11:57:01.987Z"
   },
   {
    "duration": 62,
    "start_time": "2023-01-06T11:57:03.076Z"
   },
   {
    "duration": 13,
    "start_time": "2023-01-06T11:57:03.140Z"
   },
   {
    "duration": 22,
    "start_time": "2023-01-06T11:57:03.155Z"
   },
   {
    "duration": 9,
    "start_time": "2023-01-06T11:57:03.179Z"
   },
   {
    "duration": 196,
    "start_time": "2023-01-06T11:57:03.190Z"
   },
   {
    "duration": 111,
    "start_time": "2023-01-06T11:57:03.388Z"
   },
   {
    "duration": 36,
    "start_time": "2023-01-06T11:57:03.500Z"
   },
   {
    "duration": 6,
    "start_time": "2023-01-06T11:57:03.537Z"
   },
   {
    "duration": 120,
    "start_time": "2023-01-06T11:57:03.545Z"
   },
   {
    "duration": 0,
    "start_time": "2023-01-06T11:57:03.666Z"
   },
   {
    "duration": 0,
    "start_time": "2023-01-06T11:57:03.668Z"
   },
   {
    "duration": 1056,
    "start_time": "2023-01-06T12:13:12.029Z"
   },
   {
    "duration": 63,
    "start_time": "2023-01-06T12:13:13.087Z"
   },
   {
    "duration": 14,
    "start_time": "2023-01-06T12:13:13.151Z"
   },
   {
    "duration": 42,
    "start_time": "2023-01-06T12:13:13.167Z"
   },
   {
    "duration": 25,
    "start_time": "2023-01-06T12:13:13.211Z"
   },
   {
    "duration": 223,
    "start_time": "2023-01-06T12:13:13.238Z"
   },
   {
    "duration": 109,
    "start_time": "2023-01-06T12:13:13.463Z"
   },
   {
    "duration": 38,
    "start_time": "2023-01-06T12:13:13.574Z"
   },
   {
    "duration": 7,
    "start_time": "2023-01-06T12:13:13.614Z"
   },
   {
    "duration": 1140,
    "start_time": "2023-01-06T12:13:13.623Z"
   },
   {
    "duration": 2943,
    "start_time": "2023-01-06T12:13:14.765Z"
   },
   {
    "duration": 3273,
    "start_time": "2023-01-06T12:13:17.711Z"
   },
   {
    "duration": 1021,
    "start_time": "2023-01-06T12:17:10.838Z"
   },
   {
    "duration": 60,
    "start_time": "2023-01-06T12:17:11.860Z"
   },
   {
    "duration": 11,
    "start_time": "2023-01-06T12:17:11.922Z"
   },
   {
    "duration": 3,
    "start_time": "2023-01-06T12:17:11.935Z"
   },
   {
    "duration": 189,
    "start_time": "2023-01-06T12:17:11.939Z"
   },
   {
    "duration": 7,
    "start_time": "2023-01-06T12:17:12.129Z"
   },
   {
    "duration": 7,
    "start_time": "2023-01-06T12:17:12.138Z"
   },
   {
    "duration": 6,
    "start_time": "2023-01-06T12:17:12.147Z"
   },
   {
    "duration": 118,
    "start_time": "2023-01-06T12:17:12.154Z"
   },
   {
    "duration": 0,
    "start_time": "2023-01-06T12:17:12.274Z"
   },
   {
    "duration": 0,
    "start_time": "2023-01-06T12:17:12.276Z"
   },
   {
    "duration": 1093,
    "start_time": "2023-01-06T12:18:04.598Z"
   },
   {
    "duration": 63,
    "start_time": "2023-01-06T12:18:05.693Z"
   },
   {
    "duration": 12,
    "start_time": "2023-01-06T12:18:05.757Z"
   },
   {
    "duration": 4,
    "start_time": "2023-01-06T12:18:05.771Z"
   },
   {
    "duration": 205,
    "start_time": "2023-01-06T12:18:05.777Z"
   },
   {
    "duration": 118,
    "start_time": "2023-01-06T12:18:05.984Z"
   },
   {
    "duration": 33,
    "start_time": "2023-01-06T12:18:06.104Z"
   },
   {
    "duration": 4,
    "start_time": "2023-01-06T12:18:06.139Z"
   },
   {
    "duration": 243,
    "start_time": "2023-01-06T12:18:06.145Z"
   },
   {
    "duration": 0,
    "start_time": "2023-01-06T12:18:06.389Z"
   },
   {
    "duration": 0,
    "start_time": "2023-01-06T12:18:06.391Z"
   },
   {
    "duration": 1096,
    "start_time": "2023-01-06T12:19:22.068Z"
   },
   {
    "duration": 62,
    "start_time": "2023-01-06T12:19:23.166Z"
   },
   {
    "duration": 12,
    "start_time": "2023-01-06T12:19:23.230Z"
   },
   {
    "duration": 4,
    "start_time": "2023-01-06T12:19:23.243Z"
   },
   {
    "duration": 8,
    "start_time": "2023-01-06T12:19:23.249Z"
   },
   {
    "duration": 183,
    "start_time": "2023-01-06T12:19:23.259Z"
   },
   {
    "duration": 104,
    "start_time": "2023-01-06T12:19:23.444Z"
   },
   {
    "duration": 30,
    "start_time": "2023-01-06T12:19:23.549Z"
   },
   {
    "duration": 4,
    "start_time": "2023-01-06T12:19:23.581Z"
   },
   {
    "duration": 1135,
    "start_time": "2023-01-06T12:19:23.586Z"
   },
   {
    "duration": 108,
    "start_time": "2023-01-06T12:19:24.723Z"
   },
   {
    "duration": 0,
    "start_time": "2023-01-06T12:19:24.833Z"
   },
   {
    "duration": 1076,
    "start_time": "2023-01-06T12:20:10.591Z"
   },
   {
    "duration": 62,
    "start_time": "2023-01-06T12:20:11.669Z"
   },
   {
    "duration": 11,
    "start_time": "2023-01-06T12:20:11.732Z"
   },
   {
    "duration": 4,
    "start_time": "2023-01-06T12:20:11.744Z"
   },
   {
    "duration": 12,
    "start_time": "2023-01-06T12:20:11.751Z"
   },
   {
    "duration": 170,
    "start_time": "2023-01-06T12:20:11.765Z"
   },
   {
    "duration": 102,
    "start_time": "2023-01-06T12:20:11.937Z"
   },
   {
    "duration": 28,
    "start_time": "2023-01-06T12:20:12.041Z"
   },
   {
    "duration": 4,
    "start_time": "2023-01-06T12:20:12.070Z"
   },
   {
    "duration": 1167,
    "start_time": "2023-01-06T12:20:12.076Z"
   },
   {
    "duration": 15559,
    "start_time": "2023-01-06T12:20:13.244Z"
   },
   {
    "duration": 96,
    "start_time": "2023-01-06T12:20:28.805Z"
   },
   {
    "duration": 3119,
    "start_time": "2023-01-06T12:20:52.607Z"
   },
   {
    "duration": 1097,
    "start_time": "2023-01-06T12:23:56.805Z"
   },
   {
    "duration": 65,
    "start_time": "2023-01-06T12:23:57.904Z"
   },
   {
    "duration": 14,
    "start_time": "2023-01-06T12:23:57.971Z"
   },
   {
    "duration": 13,
    "start_time": "2023-01-06T12:23:57.987Z"
   },
   {
    "duration": 23,
    "start_time": "2023-01-06T12:23:58.003Z"
   },
   {
    "duration": 177,
    "start_time": "2023-01-06T12:23:58.027Z"
   },
   {
    "duration": 111,
    "start_time": "2023-01-06T12:23:58.205Z"
   },
   {
    "duration": 33,
    "start_time": "2023-01-06T12:23:58.318Z"
   },
   {
    "duration": 5,
    "start_time": "2023-01-06T12:23:58.352Z"
   },
   {
    "duration": 1214,
    "start_time": "2023-01-06T12:23:58.359Z"
   },
   {
    "duration": 15566,
    "start_time": "2023-01-06T12:23:59.576Z"
   },
   {
    "duration": 3169,
    "start_time": "2023-01-06T12:24:15.144Z"
   },
   {
    "duration": 1053,
    "start_time": "2023-01-06T12:37:14.541Z"
   },
   {
    "duration": 63,
    "start_time": "2023-01-06T12:37:15.596Z"
   },
   {
    "duration": 12,
    "start_time": "2023-01-06T12:37:15.660Z"
   },
   {
    "duration": 15,
    "start_time": "2023-01-06T12:37:15.674Z"
   },
   {
    "duration": 19,
    "start_time": "2023-01-06T12:37:15.691Z"
   },
   {
    "duration": 182,
    "start_time": "2023-01-06T12:37:15.711Z"
   },
   {
    "duration": 107,
    "start_time": "2023-01-06T12:37:15.895Z"
   },
   {
    "duration": 32,
    "start_time": "2023-01-06T12:37:16.005Z"
   },
   {
    "duration": 589,
    "start_time": "2023-01-06T12:37:16.039Z"
   },
   {
    "duration": 5,
    "start_time": "2023-01-06T12:37:16.629Z"
   },
   {
    "duration": 758,
    "start_time": "2023-01-06T12:37:16.635Z"
   },
   {
    "duration": 7898,
    "start_time": "2023-01-06T12:37:17.395Z"
   },
   {
    "duration": 4618,
    "start_time": "2023-01-06T12:37:25.295Z"
   },
   {
    "duration": 1048,
    "start_time": "2023-01-06T12:44:16.231Z"
   },
   {
    "duration": 63,
    "start_time": "2023-01-06T12:44:17.281Z"
   },
   {
    "duration": 13,
    "start_time": "2023-01-06T12:44:17.345Z"
   },
   {
    "duration": 5,
    "start_time": "2023-01-06T12:44:17.361Z"
   },
   {
    "duration": 10,
    "start_time": "2023-01-06T12:44:17.368Z"
   },
   {
    "duration": 189,
    "start_time": "2023-01-06T12:44:17.380Z"
   },
   {
    "duration": 116,
    "start_time": "2023-01-06T12:44:17.571Z"
   },
   {
    "duration": 39,
    "start_time": "2023-01-06T12:44:17.688Z"
   },
   {
    "duration": 34,
    "start_time": "2023-01-06T12:44:17.729Z"
   },
   {
    "duration": 4,
    "start_time": "2023-01-06T12:44:17.766Z"
   },
   {
    "duration": 1181,
    "start_time": "2023-01-06T12:44:17.772Z"
   },
   {
    "duration": 15592,
    "start_time": "2023-01-06T12:44:18.955Z"
   },
   {
    "duration": 7319,
    "start_time": "2023-01-06T12:44:34.549Z"
   },
   {
    "duration": 1283,
    "start_time": "2023-01-06T12:51:13.145Z"
   },
   {
    "duration": 1176,
    "start_time": "2023-01-06T12:51:33.486Z"
   },
   {
    "duration": 1192,
    "start_time": "2023-01-06T12:51:45.866Z"
   },
   {
    "duration": 1184,
    "start_time": "2023-01-06T12:52:58.255Z"
   },
   {
    "duration": 191,
    "start_time": "2023-01-06T13:00:19.452Z"
   },
   {
    "duration": 1088,
    "start_time": "2023-01-06T13:00:32.226Z"
   },
   {
    "duration": 66,
    "start_time": "2023-01-06T13:00:33.316Z"
   },
   {
    "duration": 19,
    "start_time": "2023-01-06T13:00:33.385Z"
   },
   {
    "duration": 5,
    "start_time": "2023-01-06T13:00:33.406Z"
   },
   {
    "duration": 16,
    "start_time": "2023-01-06T13:00:33.414Z"
   },
   {
    "duration": 210,
    "start_time": "2023-01-06T13:00:33.432Z"
   },
   {
    "duration": 107,
    "start_time": "2023-01-06T13:00:33.645Z"
   },
   {
    "duration": 31,
    "start_time": "2023-01-06T13:00:33.754Z"
   },
   {
    "duration": 69,
    "start_time": "2023-01-06T13:00:33.787Z"
   },
   {
    "duration": 5,
    "start_time": "2023-01-06T13:00:33.858Z"
   },
   {
    "duration": 1333,
    "start_time": "2023-01-06T13:00:33.865Z"
   },
   {
    "duration": 16022,
    "start_time": "2023-01-06T13:00:35.200Z"
   },
   {
    "duration": 9308,
    "start_time": "2023-01-06T13:00:51.224Z"
   },
   {
    "duration": 15828,
    "start_time": "2023-01-06T13:03:18.939Z"
   },
   {
    "duration": 7051,
    "start_time": "2023-01-06T13:03:43.362Z"
   },
   {
    "duration": 7431,
    "start_time": "2023-01-06T13:07:08.284Z"
   },
   {
    "duration": 436,
    "start_time": "2023-01-06T13:12:32.381Z"
   },
   {
    "duration": 402,
    "start_time": "2023-01-06T13:13:36.511Z"
   },
   {
    "duration": 1243,
    "start_time": "2023-01-06T13:15:20.044Z"
   },
   {
    "duration": 16576,
    "start_time": "2023-01-06T13:15:33.745Z"
   },
   {
    "duration": 458,
    "start_time": "2023-01-06T13:15:54.970Z"
   },
   {
    "duration": 1034,
    "start_time": "2023-01-06T13:22:39.429Z"
   },
   {
    "duration": 61,
    "start_time": "2023-01-06T13:22:40.464Z"
   },
   {
    "duration": 11,
    "start_time": "2023-01-06T13:22:40.527Z"
   },
   {
    "duration": 4,
    "start_time": "2023-01-06T13:22:40.540Z"
   },
   {
    "duration": 9,
    "start_time": "2023-01-06T13:22:40.545Z"
   },
   {
    "duration": 181,
    "start_time": "2023-01-06T13:22:40.556Z"
   },
   {
    "duration": 107,
    "start_time": "2023-01-06T13:22:40.738Z"
   },
   {
    "duration": 34,
    "start_time": "2023-01-06T13:22:40.847Z"
   },
   {
    "duration": 48,
    "start_time": "2023-01-06T13:22:40.883Z"
   },
   {
    "duration": 4,
    "start_time": "2023-01-06T13:22:40.933Z"
   },
   {
    "duration": 1125,
    "start_time": "2023-01-06T13:22:40.939Z"
   },
   {
    "duration": 15564,
    "start_time": "2023-01-06T13:22:42.066Z"
   },
   {
    "duration": 7583,
    "start_time": "2023-01-06T13:22:57.632Z"
   },
   {
    "duration": 1230,
    "start_time": "2023-01-06T13:23:05.216Z"
   },
   {
    "duration": 15789,
    "start_time": "2023-01-06T13:23:06.448Z"
   },
   {
    "duration": 379,
    "start_time": "2023-01-06T13:23:22.238Z"
   },
   {
    "duration": 140,
    "start_time": "2023-01-06T13:28:57.803Z"
   },
   {
    "duration": 1128,
    "start_time": "2023-01-06T13:31:13.693Z"
   },
   {
    "duration": 68,
    "start_time": "2023-01-06T13:31:14.824Z"
   },
   {
    "duration": 13,
    "start_time": "2023-01-06T13:31:14.894Z"
   },
   {
    "duration": 5,
    "start_time": "2023-01-06T13:31:14.909Z"
   },
   {
    "duration": 15,
    "start_time": "2023-01-06T13:31:14.917Z"
   },
   {
    "duration": 177,
    "start_time": "2023-01-06T13:31:14.935Z"
   },
   {
    "duration": 110,
    "start_time": "2023-01-06T13:31:15.114Z"
   },
   {
    "duration": 31,
    "start_time": "2023-01-06T13:31:15.225Z"
   },
   {
    "duration": 54,
    "start_time": "2023-01-06T13:31:15.258Z"
   },
   {
    "duration": 5,
    "start_time": "2023-01-06T13:31:15.314Z"
   },
   {
    "duration": 1258,
    "start_time": "2023-01-06T13:31:15.322Z"
   },
   {
    "duration": 15999,
    "start_time": "2023-01-06T13:31:16.582Z"
   },
   {
    "duration": 7832,
    "start_time": "2023-01-06T13:31:32.583Z"
   },
   {
    "duration": 157,
    "start_time": "2023-01-06T13:31:40.417Z"
   },
   {
    "duration": 1048,
    "start_time": "2023-01-06T13:31:40.576Z"
   },
   {
    "duration": 1414,
    "start_time": "2023-01-06T13:31:41.626Z"
   },
   {
    "duration": 16594,
    "start_time": "2023-01-06T13:31:43.042Z"
   },
   {
    "duration": 384,
    "start_time": "2023-01-06T13:31:59.637Z"
   },
   {
    "duration": 1363,
    "start_time": "2023-01-06T13:34:27.616Z"
   },
   {
    "duration": 72,
    "start_time": "2023-01-06T13:34:28.981Z"
   },
   {
    "duration": 13,
    "start_time": "2023-01-06T13:34:29.054Z"
   },
   {
    "duration": 4,
    "start_time": "2023-01-06T13:34:29.069Z"
   },
   {
    "duration": 13,
    "start_time": "2023-01-06T13:34:29.075Z"
   },
   {
    "duration": 181,
    "start_time": "2023-01-06T13:34:29.090Z"
   },
   {
    "duration": 157,
    "start_time": "2023-01-06T13:34:29.273Z"
   },
   {
    "duration": 30,
    "start_time": "2023-01-06T13:34:29.432Z"
   },
   {
    "duration": 34,
    "start_time": "2023-01-06T13:34:29.464Z"
   },
   {
    "duration": 4,
    "start_time": "2023-01-06T13:34:29.512Z"
   },
   {
    "duration": 1200,
    "start_time": "2023-01-06T13:34:29.518Z"
   },
   {
    "duration": 15524,
    "start_time": "2023-01-06T13:34:30.720Z"
   },
   {
    "duration": 7069,
    "start_time": "2023-01-06T13:34:46.246Z"
   },
   {
    "duration": 154,
    "start_time": "2023-01-06T13:34:53.318Z"
   },
   {
    "duration": 50,
    "start_time": "2023-01-06T13:34:53.473Z"
   },
   {
    "duration": 0,
    "start_time": "2023-01-06T13:34:53.525Z"
   },
   {
    "duration": 0,
    "start_time": "2023-01-06T13:34:53.527Z"
   },
   {
    "duration": 0,
    "start_time": "2023-01-06T13:34:53.528Z"
   },
   {
    "duration": 0,
    "start_time": "2023-01-06T13:34:53.529Z"
   },
   {
    "duration": 0,
    "start_time": "2023-01-06T13:34:53.530Z"
   },
   {
    "duration": 2819,
    "start_time": "2023-01-06T13:35:21.876Z"
   },
   {
    "duration": 34470,
    "start_time": "2023-01-06T13:35:28.803Z"
   },
   {
    "duration": 1005,
    "start_time": "2023-01-06T13:36:09.134Z"
   },
   {
    "duration": 1122,
    "start_time": "2023-01-06T13:36:28.034Z"
   },
   {
    "duration": 64,
    "start_time": "2023-01-06T13:36:29.158Z"
   },
   {
    "duration": 13,
    "start_time": "2023-01-06T13:36:29.223Z"
   },
   {
    "duration": 5,
    "start_time": "2023-01-06T13:36:29.237Z"
   },
   {
    "duration": 11,
    "start_time": "2023-01-06T13:36:29.244Z"
   },
   {
    "duration": 203,
    "start_time": "2023-01-06T13:36:29.257Z"
   },
   {
    "duration": 115,
    "start_time": "2023-01-06T13:36:29.462Z"
   },
   {
    "duration": 41,
    "start_time": "2023-01-06T13:36:29.579Z"
   },
   {
    "duration": 35,
    "start_time": "2023-01-06T13:36:29.622Z"
   },
   {
    "duration": 4,
    "start_time": "2023-01-06T13:36:29.659Z"
   },
   {
    "duration": 1252,
    "start_time": "2023-01-06T13:36:29.664Z"
   },
   {
    "duration": 15795,
    "start_time": "2023-01-06T13:36:30.917Z"
   },
   {
    "duration": 9001,
    "start_time": "2023-01-06T13:36:46.714Z"
   },
   {
    "duration": 150,
    "start_time": "2023-01-06T13:36:55.718Z"
   },
   {
    "duration": 2832,
    "start_time": "2023-01-06T13:36:55.870Z"
   },
   {
    "duration": 34492,
    "start_time": "2023-01-06T13:36:58.704Z"
   },
   {
    "duration": 1028,
    "start_time": "2023-01-06T13:37:33.198Z"
   },
   {
    "duration": 1338,
    "start_time": "2023-01-06T13:37:34.228Z"
   },
   {
    "duration": 16339,
    "start_time": "2023-01-06T13:37:35.568Z"
   },
   {
    "duration": 418,
    "start_time": "2023-01-06T13:37:51.909Z"
   },
   {
    "duration": 1102,
    "start_time": "2023-01-06T13:45:43.884Z"
   },
   {
    "duration": 63,
    "start_time": "2023-01-06T13:45:44.988Z"
   },
   {
    "duration": 12,
    "start_time": "2023-01-06T13:45:45.052Z"
   },
   {
    "duration": 3,
    "start_time": "2023-01-06T13:45:45.066Z"
   },
   {
    "duration": 12,
    "start_time": "2023-01-06T13:45:45.071Z"
   },
   {
    "duration": 182,
    "start_time": "2023-01-06T13:45:45.085Z"
   },
   {
    "duration": 109,
    "start_time": "2023-01-06T13:45:45.269Z"
   },
   {
    "duration": 35,
    "start_time": "2023-01-06T13:45:45.379Z"
   },
   {
    "duration": 33,
    "start_time": "2023-01-06T13:45:45.416Z"
   },
   {
    "duration": 3,
    "start_time": "2023-01-06T13:45:45.452Z"
   },
   {
    "duration": 1215,
    "start_time": "2023-01-06T13:45:45.457Z"
   },
   {
    "duration": 16509,
    "start_time": "2023-01-06T13:45:46.674Z"
   },
   {
    "duration": 7532,
    "start_time": "2023-01-06T13:46:03.185Z"
   },
   {
    "duration": 167,
    "start_time": "2023-01-06T13:46:10.718Z"
   },
   {
    "duration": 2919,
    "start_time": "2023-01-06T13:46:10.887Z"
   },
   {
    "duration": 34688,
    "start_time": "2023-01-06T13:46:13.813Z"
   },
   {
    "duration": 1113,
    "start_time": "2023-01-06T13:46:48.503Z"
   },
   {
    "duration": 131,
    "start_time": "2023-01-06T13:46:49.617Z"
   },
   {
    "duration": 493,
    "start_time": "2023-01-06T13:46:49.750Z"
   },
   {
    "duration": 8539,
    "start_time": "2023-01-06T13:46:50.244Z"
   },
   {
    "duration": 151,
    "start_time": "2023-01-06T13:46:58.785Z"
   },
   {
    "duration": 1318,
    "start_time": "2023-01-06T13:46:59.012Z"
   },
   {
    "duration": 16693,
    "start_time": "2023-01-06T13:47:00.332Z"
   },
   {
    "duration": 396,
    "start_time": "2023-01-06T13:47:17.027Z"
   },
   {
    "duration": 6,
    "start_time": "2023-01-06T14:00:06.425Z"
   },
   {
    "duration": 100,
    "start_time": "2023-01-06T14:00:06.438Z"
   },
   {
    "duration": 19,
    "start_time": "2023-01-06T14:00:06.541Z"
   },
   {
    "duration": 9,
    "start_time": "2023-01-06T14:00:06.562Z"
   },
   {
    "duration": 16,
    "start_time": "2023-01-06T14:00:06.573Z"
   },
   {
    "duration": 180,
    "start_time": "2023-01-06T14:00:06.592Z"
   },
   {
    "duration": 103,
    "start_time": "2023-01-06T14:00:06.774Z"
   },
   {
    "duration": 24,
    "start_time": "2023-01-06T14:00:06.880Z"
   },
   {
    "duration": 39,
    "start_time": "2023-01-06T14:00:06.913Z"
   },
   {
    "duration": 5,
    "start_time": "2023-01-06T14:00:06.954Z"
   },
   {
    "duration": 1109,
    "start_time": "2023-01-06T14:00:06.960Z"
   },
   {
    "duration": 14094,
    "start_time": "2023-01-06T14:00:08.071Z"
   },
   {
    "duration": 10248,
    "start_time": "2023-01-06T14:00:22.167Z"
   },
   {
    "duration": 252,
    "start_time": "2023-01-06T14:00:39.000Z"
   },
   {
    "duration": 4836,
    "start_time": "2023-01-06T14:01:23.876Z"
   },
   {
    "duration": 137,
    "start_time": "2023-01-06T14:01:36.795Z"
   },
   {
    "duration": 2829,
    "start_time": "2023-01-06T14:01:42.796Z"
   },
   {
    "duration": 96,
    "start_time": "2023-01-06T14:01:53.068Z"
   },
   {
    "duration": 2057,
    "start_time": "2023-01-06T14:01:55.445Z"
   },
   {
    "duration": 87,
    "start_time": "2023-01-06T14:02:07.568Z"
   },
   {
    "duration": 1604,
    "start_time": "2023-01-06T14:02:10.852Z"
   },
   {
    "duration": 1223,
    "start_time": "2023-01-06T14:02:25.885Z"
   },
   {
    "duration": 65,
    "start_time": "2023-01-06T14:02:27.110Z"
   },
   {
    "duration": 14,
    "start_time": "2023-01-06T14:02:27.176Z"
   },
   {
    "duration": 47,
    "start_time": "2023-01-06T14:02:27.191Z"
   },
   {
    "duration": 30,
    "start_time": "2023-01-06T14:02:27.240Z"
   },
   {
    "duration": 195,
    "start_time": "2023-01-06T14:02:27.272Z"
   },
   {
    "duration": 118,
    "start_time": "2023-01-06T14:02:27.469Z"
   },
   {
    "duration": 43,
    "start_time": "2023-01-06T14:02:27.589Z"
   },
   {
    "duration": 37,
    "start_time": "2023-01-06T14:02:27.634Z"
   },
   {
    "duration": 5,
    "start_time": "2023-01-06T14:02:27.672Z"
   },
   {
    "duration": 1243,
    "start_time": "2023-01-06T14:02:27.678Z"
   },
   {
    "duration": 16223,
    "start_time": "2023-01-06T14:02:28.922Z"
   },
   {
    "duration": 8287,
    "start_time": "2023-01-06T14:02:45.146Z"
   },
   {
    "duration": 94,
    "start_time": "2023-01-06T14:02:53.435Z"
   },
   {
    "duration": 1624,
    "start_time": "2023-01-06T14:02:53.531Z"
   },
   {
    "duration": 20376,
    "start_time": "2023-01-06T14:02:55.157Z"
   },
   {
    "duration": 515,
    "start_time": "2023-01-06T14:03:15.535Z"
   },
   {
    "duration": 132,
    "start_time": "2023-01-06T14:03:16.114Z"
   },
   {
    "duration": 502,
    "start_time": "2023-01-06T14:03:16.248Z"
   },
   {
    "duration": 8357,
    "start_time": "2023-01-06T14:03:16.752Z"
   },
   {
    "duration": 154,
    "start_time": "2023-01-06T14:03:25.112Z"
   },
   {
    "duration": 1362,
    "start_time": "2023-01-06T14:03:25.313Z"
   },
   {
    "duration": 16429,
    "start_time": "2023-01-06T14:03:26.677Z"
   },
   {
    "duration": 414,
    "start_time": "2023-01-06T14:03:43.108Z"
   },
   {
    "duration": 48,
    "start_time": "2023-01-06T14:04:01.177Z"
   },
   {
    "duration": 536,
    "start_time": "2023-01-06T14:04:04.816Z"
   },
   {
    "duration": 56,
    "start_time": "2023-01-06T14:04:16.716Z"
   },
   {
    "duration": 582,
    "start_time": "2023-01-06T14:04:19.048Z"
   },
   {
    "duration": 72,
    "start_time": "2023-01-06T14:04:27.355Z"
   },
   {
    "duration": 751,
    "start_time": "2023-01-06T14:04:29.411Z"
   },
   {
    "duration": 67,
    "start_time": "2023-01-06T14:04:53.463Z"
   },
   {
    "duration": 877,
    "start_time": "2023-01-06T14:04:56.009Z"
   },
   {
    "duration": 67,
    "start_time": "2023-01-06T14:05:02.656Z"
   },
   {
    "duration": 929,
    "start_time": "2023-01-06T14:05:05.056Z"
   },
   {
    "duration": 66,
    "start_time": "2023-01-06T14:05:13.198Z"
   },
   {
    "duration": 850,
    "start_time": "2023-01-06T14:05:16.591Z"
   },
   {
    "duration": 67,
    "start_time": "2023-01-06T14:05:23.671Z"
   },
   {
    "duration": 932,
    "start_time": "2023-01-06T14:05:26.088Z"
   },
   {
    "duration": 1025,
    "start_time": "2023-01-06T14:05:43.867Z"
   },
   {
    "duration": 69,
    "start_time": "2023-01-06T14:05:44.894Z"
   },
   {
    "duration": 12,
    "start_time": "2023-01-06T14:05:44.964Z"
   },
   {
    "duration": 5,
    "start_time": "2023-01-06T14:05:44.977Z"
   },
   {
    "duration": 15,
    "start_time": "2023-01-06T14:05:44.984Z"
   },
   {
    "duration": 202,
    "start_time": "2023-01-06T14:05:45.001Z"
   },
   {
    "duration": 102,
    "start_time": "2023-01-06T14:05:45.205Z"
   },
   {
    "duration": 32,
    "start_time": "2023-01-06T14:05:45.308Z"
   },
   {
    "duration": 32,
    "start_time": "2023-01-06T14:05:45.342Z"
   },
   {
    "duration": 3,
    "start_time": "2023-01-06T14:05:45.376Z"
   },
   {
    "duration": 1245,
    "start_time": "2023-01-06T14:05:45.381Z"
   },
   {
    "duration": 15813,
    "start_time": "2023-01-06T14:05:46.628Z"
   },
   {
    "duration": 6973,
    "start_time": "2023-01-06T14:06:02.442Z"
   },
   {
    "duration": 97,
    "start_time": "2023-01-06T14:06:09.417Z"
   },
   {
    "duration": 1603,
    "start_time": "2023-01-06T14:06:09.515Z"
   },
   {
    "duration": 20292,
    "start_time": "2023-01-06T14:06:11.120Z"
   },
   {
    "duration": 508,
    "start_time": "2023-01-06T14:06:31.414Z"
   },
   {
    "duration": 237,
    "start_time": "2023-01-06T14:06:31.924Z"
   },
   {
    "duration": 899,
    "start_time": "2023-01-06T14:06:32.164Z"
   },
   {
    "duration": 13337,
    "start_time": "2023-01-06T14:06:33.065Z"
   },
   {
    "duration": 328,
    "start_time": "2023-01-06T14:06:46.404Z"
   },
   {
    "duration": 1356,
    "start_time": "2023-01-06T14:06:46.735Z"
   },
   {
    "duration": 16284,
    "start_time": "2023-01-06T14:06:48.093Z"
   },
   {
    "duration": 432,
    "start_time": "2023-01-06T14:07:04.379Z"
   },
   {
    "duration": 1049,
    "start_time": "2023-01-06T14:11:52.929Z"
   },
   {
    "duration": 64,
    "start_time": "2023-01-06T14:11:53.980Z"
   },
   {
    "duration": 12,
    "start_time": "2023-01-06T14:11:54.045Z"
   },
   {
    "duration": 3,
    "start_time": "2023-01-06T14:11:54.059Z"
   },
   {
    "duration": 9,
    "start_time": "2023-01-06T14:11:54.065Z"
   },
   {
    "duration": 195,
    "start_time": "2023-01-06T14:11:54.075Z"
   },
   {
    "duration": 108,
    "start_time": "2023-01-06T14:11:54.272Z"
   },
   {
    "duration": 37,
    "start_time": "2023-01-06T14:11:54.382Z"
   },
   {
    "duration": 32,
    "start_time": "2023-01-06T14:11:54.421Z"
   },
   {
    "duration": 4,
    "start_time": "2023-01-06T14:11:54.455Z"
   },
   {
    "duration": 1203,
    "start_time": "2023-01-06T14:11:54.461Z"
   },
   {
    "duration": 16025,
    "start_time": "2023-01-06T14:11:55.667Z"
   },
   {
    "duration": 10222,
    "start_time": "2023-01-06T14:12:11.693Z"
   },
   {
    "duration": 95,
    "start_time": "2023-01-06T14:12:21.919Z"
   },
   {
    "duration": 1583,
    "start_time": "2023-01-06T14:12:22.016Z"
   },
   {
    "duration": 20593,
    "start_time": "2023-01-06T14:12:23.602Z"
   },
   {
    "duration": 522,
    "start_time": "2023-01-06T14:12:44.196Z"
   },
   {
    "duration": 250,
    "start_time": "2023-01-06T14:12:44.720Z"
   },
   {
    "duration": 887,
    "start_time": "2023-01-06T14:12:44.972Z"
   },
   {
    "duration": 13228,
    "start_time": "2023-01-06T14:12:45.860Z"
   },
   {
    "duration": 332,
    "start_time": "2023-01-06T14:12:59.091Z"
   },
   {
    "duration": 1374,
    "start_time": "2023-01-06T14:12:59.429Z"
   },
   {
    "duration": 16278,
    "start_time": "2023-01-06T14:13:00.805Z"
   },
   {
    "duration": 449,
    "start_time": "2023-01-06T14:13:17.086Z"
   },
   {
    "duration": 126,
    "start_time": "2023-01-06T14:13:17.615Z"
   },
   {
    "duration": 42,
    "start_time": "2023-01-06T14:16:26.916Z"
   },
   {
    "duration": 93,
    "start_time": "2023-01-06T14:18:18.678Z"
   },
   {
    "duration": 1411,
    "start_time": "2023-01-06T14:18:21.328Z"
   },
   {
    "duration": 84,
    "start_time": "2023-01-06T14:18:27.681Z"
   },
   {
    "duration": 1604,
    "start_time": "2023-01-06T14:18:29.975Z"
   },
   {
    "duration": 49,
    "start_time": "2023-01-06T14:18:53.155Z"
   },
   {
    "duration": 1133,
    "start_time": "2023-01-06T14:21:20.705Z"
   },
   {
    "duration": 65,
    "start_time": "2023-01-06T14:21:21.840Z"
   },
   {
    "duration": 20,
    "start_time": "2023-01-06T14:21:21.908Z"
   },
   {
    "duration": 5,
    "start_time": "2023-01-06T14:21:21.932Z"
   },
   {
    "duration": 14,
    "start_time": "2023-01-06T14:21:21.939Z"
   },
   {
    "duration": 203,
    "start_time": "2023-01-06T14:21:21.955Z"
   },
   {
    "duration": 111,
    "start_time": "2023-01-06T14:21:22.159Z"
   },
   {
    "duration": 30,
    "start_time": "2023-01-06T14:21:22.271Z"
   },
   {
    "duration": 35,
    "start_time": "2023-01-06T14:21:22.313Z"
   },
   {
    "duration": 3,
    "start_time": "2023-01-06T14:21:22.351Z"
   },
   {
    "duration": 1154,
    "start_time": "2023-01-06T14:21:22.356Z"
   },
   {
    "duration": 15927,
    "start_time": "2023-01-06T14:21:23.512Z"
   },
   {
    "duration": 9074,
    "start_time": "2023-01-06T14:21:39.441Z"
   },
   {
    "duration": 118,
    "start_time": "2023-01-06T14:21:48.518Z"
   },
   {
    "duration": 1586,
    "start_time": "2023-01-06T14:21:48.637Z"
   },
   {
    "duration": 20307,
    "start_time": "2023-01-06T14:21:50.225Z"
   },
   {
    "duration": 510,
    "start_time": "2023-01-06T14:22:10.533Z"
   },
   {
    "duration": 223,
    "start_time": "2023-01-06T14:22:11.045Z"
   },
   {
    "duration": 908,
    "start_time": "2023-01-06T14:22:11.270Z"
   },
   {
    "duration": 13457,
    "start_time": "2023-01-06T14:22:12.180Z"
   },
   {
    "duration": 295,
    "start_time": "2023-01-06T14:22:25.639Z"
   },
   {
    "duration": 1421,
    "start_time": "2023-01-06T14:22:25.936Z"
   },
   {
    "duration": 16586,
    "start_time": "2023-01-06T14:22:27.359Z"
   },
   {
    "duration": 387,
    "start_time": "2023-01-06T14:22:43.947Z"
   },
   {
    "duration": 201,
    "start_time": "2023-01-06T14:22:44.338Z"
   },
   {
    "duration": 43,
    "start_time": "2023-01-06T14:22:44.542Z"
   },
   {
    "duration": 44,
    "start_time": "2023-01-06T14:22:44.613Z"
   },
   {
    "duration": 64,
    "start_time": "2023-01-06T14:22:44.661Z"
   },
   {
    "duration": 52,
    "start_time": "2023-01-06T14:25:17.408Z"
   },
   {
    "duration": 100,
    "start_time": "2023-01-06T14:25:37.635Z"
   },
   {
    "duration": 1779,
    "start_time": "2023-01-06T14:25:40.109Z"
   },
   {
    "duration": 63,
    "start_time": "2023-01-06T14:25:47.328Z"
   },
   {
    "duration": 1387,
    "start_time": "2023-01-06T14:25:49.322Z"
   },
   {
    "duration": 130,
    "start_time": "2023-01-06T14:25:59.523Z"
   },
   {
    "duration": 89,
    "start_time": "2023-01-06T14:26:04.960Z"
   },
   {
    "duration": 1560,
    "start_time": "2023-01-06T14:26:06.788Z"
   },
   {
    "duration": 68,
    "start_time": "2023-01-06T14:26:23.767Z"
   },
   {
    "duration": 978,
    "start_time": "2023-01-06T14:26:25.898Z"
   },
   {
    "duration": 66,
    "start_time": "2023-01-06T14:26:32.575Z"
   },
   {
    "duration": 915,
    "start_time": "2023-01-06T14:26:34.395Z"
   },
   {
    "duration": 63,
    "start_time": "2023-01-06T14:26:40.757Z"
   },
   {
    "duration": 896,
    "start_time": "2023-01-06T14:26:42.882Z"
   },
   {
    "duration": 80,
    "start_time": "2023-01-06T14:26:49.007Z"
   },
   {
    "duration": 910,
    "start_time": "2023-01-06T14:26:50.947Z"
   },
   {
    "duration": 67,
    "start_time": "2023-01-06T14:26:56.876Z"
   },
   {
    "duration": 866,
    "start_time": "2023-01-06T14:26:59.267Z"
   },
   {
    "duration": 43,
    "start_time": "2023-01-06T14:27:18.295Z"
   },
   {
    "duration": 42,
    "start_time": "2023-01-06T14:27:22.364Z"
   },
   {
    "duration": 91,
    "start_time": "2023-01-06T14:28:45.001Z"
   },
   {
    "duration": 1463,
    "start_time": "2023-01-06T14:28:47.506Z"
   },
   {
    "duration": 17903,
    "start_time": "2023-01-06T14:28:51.507Z"
   },
   {
    "duration": 457,
    "start_time": "2023-01-06T14:29:15.273Z"
   },
   {
    "duration": 77,
    "start_time": "2023-01-06T14:29:21.672Z"
   },
   {
    "duration": 1608,
    "start_time": "2023-01-06T14:29:23.247Z"
   },
   {
    "duration": 19961,
    "start_time": "2023-01-06T14:29:26.911Z"
   },
   {
    "duration": 527,
    "start_time": "2023-01-06T14:29:50.387Z"
   },
   {
    "duration": 1611,
    "start_time": "2023-01-06T14:29:59.579Z"
   },
   {
    "duration": 20049,
    "start_time": "2023-01-06T14:30:04.596Z"
   },
   {
    "duration": 571,
    "start_time": "2023-01-06T14:30:28.344Z"
   },
   {
    "duration": 1565,
    "start_time": "2023-01-06T14:30:44.231Z"
   },
   {
    "duration": 20374,
    "start_time": "2023-01-06T14:30:49.876Z"
   },
   {
    "duration": 570,
    "start_time": "2023-01-06T14:31:14.444Z"
   },
   {
    "duration": 188,
    "start_time": "2023-01-06T14:31:24.287Z"
   },
   {
    "duration": 3788,
    "start_time": "2023-01-06T14:31:26.275Z"
   },
   {
    "duration": 77,
    "start_time": "2023-01-06T14:31:35.283Z"
   },
   {
    "duration": 1535,
    "start_time": "2023-01-06T14:31:36.807Z"
   },
   {
    "duration": 83,
    "start_time": "2023-01-06T14:31:45.423Z"
   },
   {
    "duration": 1350,
    "start_time": "2023-01-06T14:31:47.027Z"
   },
   {
    "duration": 86,
    "start_time": "2023-01-06T14:31:52.554Z"
   },
   {
    "duration": 1731,
    "start_time": "2023-01-06T14:31:54.155Z"
   },
   {
    "duration": 82,
    "start_time": "2023-01-06T14:31:59.991Z"
   },
   {
    "duration": 1589,
    "start_time": "2023-01-06T14:32:02.068Z"
   },
   {
    "duration": 240,
    "start_time": "2023-01-06T14:32:12.824Z"
   },
   {
    "duration": 4741,
    "start_time": "2023-01-06T14:32:14.456Z"
   },
   {
    "duration": 56642,
    "start_time": "2023-01-06T14:32:21.912Z"
   },
   {
    "duration": 86,
    "start_time": "2023-01-06T14:33:29.928Z"
   },
   {
    "duration": 1629,
    "start_time": "2023-01-06T14:33:31.811Z"
   },
   {
    "duration": 68,
    "start_time": "2023-01-06T14:34:01.655Z"
   },
   {
    "duration": 884,
    "start_time": "2023-01-06T14:34:05.348Z"
   },
   {
    "duration": 61,
    "start_time": "2023-01-06T14:34:13.288Z"
   },
   {
    "duration": 859,
    "start_time": "2023-01-06T14:34:15.001Z"
   },
   {
    "duration": 66,
    "start_time": "2023-01-06T14:36:14.633Z"
   },
   {
    "duration": 942,
    "start_time": "2023-01-06T14:36:17.535Z"
   },
   {
    "duration": 65,
    "start_time": "2023-01-06T14:36:23.828Z"
   },
   {
    "duration": 913,
    "start_time": "2023-01-06T14:36:25.555Z"
   },
   {
    "duration": 69,
    "start_time": "2023-01-06T14:36:32.368Z"
   },
   {
    "duration": 1002,
    "start_time": "2023-01-06T14:36:34.808Z"
   },
   {
    "duration": 80,
    "start_time": "2023-01-06T14:36:45.487Z"
   },
   {
    "duration": 884,
    "start_time": "2023-01-06T14:36:46.953Z"
   },
   {
    "duration": 70,
    "start_time": "2023-01-06T14:36:53.324Z"
   },
   {
    "duration": 907,
    "start_time": "2023-01-06T14:36:55.047Z"
   },
   {
    "duration": 69,
    "start_time": "2023-01-06T14:37:02.331Z"
   },
   {
    "duration": 891,
    "start_time": "2023-01-06T14:37:04.430Z"
   },
   {
    "duration": 70,
    "start_time": "2023-01-06T14:37:10.318Z"
   },
   {
    "duration": 900,
    "start_time": "2023-01-06T14:37:12.423Z"
   },
   {
    "duration": 13770,
    "start_time": "2023-01-06T14:37:16.172Z"
   },
   {
    "duration": 344,
    "start_time": "2023-01-06T14:37:33.067Z"
   },
   {
    "duration": 1048,
    "start_time": "2023-01-06T14:37:50.601Z"
   },
   {
    "duration": 61,
    "start_time": "2023-01-06T14:37:51.651Z"
   },
   {
    "duration": 14,
    "start_time": "2023-01-06T14:37:51.714Z"
   },
   {
    "duration": 8,
    "start_time": "2023-01-06T14:37:51.731Z"
   },
   {
    "duration": 13,
    "start_time": "2023-01-06T14:37:51.740Z"
   },
   {
    "duration": 177,
    "start_time": "2023-01-06T14:37:51.755Z"
   },
   {
    "duration": 107,
    "start_time": "2023-01-06T14:37:51.934Z"
   },
   {
    "duration": 30,
    "start_time": "2023-01-06T14:37:52.043Z"
   },
   {
    "duration": 41,
    "start_time": "2023-01-06T14:37:52.075Z"
   },
   {
    "duration": 4,
    "start_time": "2023-01-06T14:37:52.118Z"
   },
   {
    "duration": 1152,
    "start_time": "2023-01-06T14:37:52.124Z"
   },
   {
    "duration": 15693,
    "start_time": "2023-01-06T14:37:53.278Z"
   },
   {
    "duration": 7042,
    "start_time": "2023-01-06T14:38:08.973Z"
   },
   {
    "duration": 99,
    "start_time": "2023-01-06T14:38:16.016Z"
   },
   {
    "duration": 1530,
    "start_time": "2023-01-06T14:38:16.117Z"
   },
   {
    "duration": 20044,
    "start_time": "2023-01-06T14:38:17.649Z"
   },
   {
    "duration": 545,
    "start_time": "2023-01-06T14:38:37.695Z"
   },
   {
    "duration": 152,
    "start_time": "2023-01-06T14:38:38.312Z"
   },
   {
    "duration": 900,
    "start_time": "2023-01-06T14:38:38.465Z"
   },
   {
    "duration": 13283,
    "start_time": "2023-01-06T14:38:39.366Z"
   },
   {
    "duration": 302,
    "start_time": "2023-01-06T14:38:52.651Z"
   },
   {
    "duration": 1274,
    "start_time": "2023-01-06T14:38:53.015Z"
   },
   {
    "duration": 16266,
    "start_time": "2023-01-06T14:38:54.290Z"
   },
   {
    "duration": 368,
    "start_time": "2023-01-06T14:39:10.557Z"
   },
   {
    "duration": 40,
    "start_time": "2023-01-06T14:39:48.585Z"
   },
   {
    "duration": 40,
    "start_time": "2023-01-06T14:40:24.153Z"
   },
   {
    "duration": 41,
    "start_time": "2023-01-06T14:45:44.902Z"
   },
   {
    "duration": 43,
    "start_time": "2023-01-06T14:46:34.900Z"
   },
   {
    "duration": 45,
    "start_time": "2023-01-06T14:47:00.055Z"
   },
   {
    "duration": 107,
    "start_time": "2023-01-06T14:47:23.908Z"
   },
   {
    "duration": 37,
    "start_time": "2023-01-06T14:48:40.667Z"
   },
   {
    "duration": 45,
    "start_time": "2023-01-06T14:48:43.106Z"
   },
   {
    "duration": 41,
    "start_time": "2023-01-06T14:48:46.687Z"
   },
   {
    "duration": 88,
    "start_time": "2023-01-06T14:49:51.132Z"
   },
   {
    "duration": 41,
    "start_time": "2023-01-06T14:49:53.466Z"
   },
   {
    "duration": 42,
    "start_time": "2023-01-06T14:49:56.857Z"
   },
   {
    "duration": 1085,
    "start_time": "2023-01-06T14:51:05.579Z"
   },
   {
    "duration": 62,
    "start_time": "2023-01-06T14:51:06.666Z"
   },
   {
    "duration": 12,
    "start_time": "2023-01-06T14:51:06.729Z"
   },
   {
    "duration": 3,
    "start_time": "2023-01-06T14:51:06.742Z"
   },
   {
    "duration": 9,
    "start_time": "2023-01-06T14:51:06.747Z"
   },
   {
    "duration": 179,
    "start_time": "2023-01-06T14:51:06.757Z"
   },
   {
    "duration": 105,
    "start_time": "2023-01-06T14:51:06.937Z"
   },
   {
    "duration": 28,
    "start_time": "2023-01-06T14:51:07.044Z"
   },
   {
    "duration": 45,
    "start_time": "2023-01-06T14:51:07.074Z"
   },
   {
    "duration": 4,
    "start_time": "2023-01-06T14:51:07.120Z"
   },
   {
    "duration": 1190,
    "start_time": "2023-01-06T14:51:07.126Z"
   },
   {
    "duration": 15809,
    "start_time": "2023-01-06T14:51:08.318Z"
   },
   {
    "duration": 7087,
    "start_time": "2023-01-06T14:51:24.128Z"
   },
   {
    "duration": 99,
    "start_time": "2023-01-06T14:51:31.218Z"
   },
   {
    "duration": 1546,
    "start_time": "2023-01-06T14:51:31.318Z"
   },
   {
    "duration": 47,
    "start_time": "2023-01-06T14:51:32.866Z"
   },
   {
    "duration": 19662,
    "start_time": "2023-01-06T14:51:32.915Z"
   },
   {
    "duration": 54,
    "start_time": "2023-01-06T14:51:52.579Z"
   },
   {
    "duration": 583,
    "start_time": "2023-01-06T14:51:52.636Z"
   },
   {
    "duration": 192,
    "start_time": "2023-01-06T14:51:53.221Z"
   },
   {
    "duration": 156,
    "start_time": "2023-01-06T14:51:53.415Z"
   },
   {
    "duration": 898,
    "start_time": "2023-01-06T14:51:53.573Z"
   },
   {
    "duration": 52,
    "start_time": "2023-01-06T14:51:54.473Z"
   },
   {
    "duration": 13304,
    "start_time": "2023-01-06T14:51:54.527Z"
   },
   {
    "duration": 42,
    "start_time": "2023-01-06T14:52:07.832Z"
   },
   {
    "duration": 350,
    "start_time": "2023-01-06T14:52:07.876Z"
   },
   {
    "duration": 184,
    "start_time": "2023-01-06T14:52:08.229Z"
   },
   {
    "duration": 1292,
    "start_time": "2023-01-06T14:52:08.415Z"
   },
   {
    "duration": 43,
    "start_time": "2023-01-06T14:52:09.708Z"
   },
   {
    "duration": 16379,
    "start_time": "2023-01-06T14:52:09.753Z"
   },
   {
    "duration": 57,
    "start_time": "2023-01-06T14:52:26.134Z"
   },
   {
    "duration": 520,
    "start_time": "2023-01-06T14:52:26.193Z"
   },
   {
    "duration": 128,
    "start_time": "2023-01-06T14:52:26.715Z"
   },
   {
    "duration": 198,
    "start_time": "2023-01-06T14:52:26.846Z"
   },
   {
    "duration": 41,
    "start_time": "2023-01-06T14:52:27.046Z"
   },
   {
    "duration": 1031,
    "start_time": "2023-01-07T09:22:45.863Z"
   },
   {
    "duration": 105,
    "start_time": "2023-01-07T09:22:46.896Z"
   },
   {
    "duration": 13,
    "start_time": "2023-01-07T09:22:47.003Z"
   },
   {
    "duration": 6,
    "start_time": "2023-01-07T09:22:47.018Z"
   },
   {
    "duration": 27,
    "start_time": "2023-01-07T09:22:47.026Z"
   },
   {
    "duration": 161,
    "start_time": "2023-01-07T09:22:47.055Z"
   },
   {
    "duration": 106,
    "start_time": "2023-01-07T09:22:47.218Z"
   },
   {
    "duration": 30,
    "start_time": "2023-01-07T09:22:47.330Z"
   },
   {
    "duration": 31,
    "start_time": "2023-01-07T09:22:47.362Z"
   },
   {
    "duration": 4,
    "start_time": "2023-01-07T09:22:47.394Z"
   },
   {
    "duration": 1161,
    "start_time": "2023-01-07T09:22:47.399Z"
   },
   {
    "duration": 1176,
    "start_time": "2023-01-07T09:22:48.562Z"
   },
   {
    "duration": 104,
    "start_time": "2023-01-07T09:22:57.641Z"
   },
   {
    "duration": 11,
    "start_time": "2023-01-07T09:23:13.037Z"
   },
   {
    "duration": 7,
    "start_time": "2023-01-07T09:23:22.368Z"
   },
   {
    "duration": 5,
    "start_time": "2023-01-07T09:36:05.254Z"
   },
   {
    "duration": 74,
    "start_time": "2023-01-07T09:36:05.261Z"
   },
   {
    "duration": 13,
    "start_time": "2023-01-07T09:36:05.337Z"
   },
   {
    "duration": 13,
    "start_time": "2023-01-07T09:36:05.352Z"
   },
   {
    "duration": 17,
    "start_time": "2023-01-07T09:36:05.370Z"
   },
   {
    "duration": 190,
    "start_time": "2023-01-07T09:36:05.389Z"
   },
   {
    "duration": 88,
    "start_time": "2023-01-07T09:36:05.581Z"
   },
   {
    "duration": 21,
    "start_time": "2023-01-07T09:36:05.671Z"
   },
   {
    "duration": 62,
    "start_time": "2023-01-07T09:36:05.694Z"
   },
   {
    "duration": 5,
    "start_time": "2023-01-07T09:36:05.758Z"
   },
   {
    "duration": 1110,
    "start_time": "2023-01-07T09:36:29.064Z"
   },
   {
    "duration": 5,
    "start_time": "2023-01-07T09:36:32.091Z"
   },
   {
    "duration": 4,
    "start_time": "2023-01-07T09:38:41.711Z"
   },
   {
    "duration": 1093,
    "start_time": "2023-01-07T09:56:12.361Z"
   },
   {
    "duration": 81,
    "start_time": "2023-01-07T09:56:13.456Z"
   },
   {
    "duration": 16,
    "start_time": "2023-01-07T09:56:13.538Z"
   },
   {
    "duration": 4,
    "start_time": "2023-01-07T09:56:13.556Z"
   },
   {
    "duration": 20,
    "start_time": "2023-01-07T09:56:13.563Z"
   },
   {
    "duration": 180,
    "start_time": "2023-01-07T09:56:13.585Z"
   },
   {
    "duration": 115,
    "start_time": "2023-01-07T09:56:13.767Z"
   },
   {
    "duration": 28,
    "start_time": "2023-01-07T09:56:13.884Z"
   },
   {
    "duration": 46,
    "start_time": "2023-01-07T09:56:13.921Z"
   },
   {
    "duration": 5,
    "start_time": "2023-01-07T09:56:13.969Z"
   },
   {
    "duration": 1290,
    "start_time": "2023-01-07T09:56:13.976Z"
   },
   {
    "duration": 6,
    "start_time": "2023-01-07T09:56:15.268Z"
   },
   {
    "duration": 1317,
    "start_time": "2023-01-07T09:56:15.276Z"
   },
   {
    "duration": 16315,
    "start_time": "2023-01-07T09:56:16.596Z"
   },
   {
    "duration": 9450,
    "start_time": "2023-01-07T09:56:32.913Z"
   },
   {
    "duration": 124,
    "start_time": "2023-01-07T09:56:42.365Z"
   },
   {
    "duration": 1742,
    "start_time": "2023-01-07T09:56:42.491Z"
   },
   {
    "duration": 48,
    "start_time": "2023-01-07T09:56:44.236Z"
   },
   {
    "duration": 20796,
    "start_time": "2023-01-07T09:56:44.286Z"
   },
   {
    "duration": 50,
    "start_time": "2023-01-07T09:57:05.084Z"
   },
   {
    "duration": 599,
    "start_time": "2023-01-07T09:57:05.137Z"
   },
   {
    "duration": 193,
    "start_time": "2023-01-07T09:57:05.738Z"
   },
   {
    "duration": 140,
    "start_time": "2023-01-07T09:57:05.940Z"
   },
   {
    "duration": 922,
    "start_time": "2023-01-07T09:57:06.082Z"
   },
   {
    "duration": 44,
    "start_time": "2023-01-07T09:57:07.006Z"
   },
   {
    "duration": 13699,
    "start_time": "2023-01-07T09:57:07.051Z"
   },
   {
    "duration": 48,
    "start_time": "2023-01-07T09:57:20.752Z"
   },
   {
    "duration": 332,
    "start_time": "2023-01-07T09:57:20.801Z"
   },
   {
    "duration": 185,
    "start_time": "2023-01-07T09:57:21.137Z"
   },
   {
    "duration": 1345,
    "start_time": "2023-01-07T09:57:21.324Z"
   },
   {
    "duration": 39,
    "start_time": "2023-01-07T09:57:22.671Z"
   },
   {
    "duration": 16646,
    "start_time": "2023-01-07T09:57:22.721Z"
   },
   {
    "duration": 55,
    "start_time": "2023-01-07T09:57:39.370Z"
   },
   {
    "duration": 407,
    "start_time": "2023-01-07T09:57:39.427Z"
   },
   {
    "duration": 194,
    "start_time": "2023-01-07T09:57:39.837Z"
   },
   {
    "duration": 122,
    "start_time": "2023-01-07T09:57:40.036Z"
   },
   {
    "duration": 53,
    "start_time": "2023-01-07T09:57:40.221Z"
   },
   {
    "duration": 1102,
    "start_time": "2023-01-07T10:08:27.190Z"
   },
   {
    "duration": 72,
    "start_time": "2023-01-07T10:08:28.294Z"
   },
   {
    "duration": 13,
    "start_time": "2023-01-07T10:08:28.368Z"
   },
   {
    "duration": 9,
    "start_time": "2023-01-07T10:08:28.383Z"
   },
   {
    "duration": 21,
    "start_time": "2023-01-07T10:08:28.394Z"
   },
   {
    "duration": 198,
    "start_time": "2023-01-07T10:08:28.417Z"
   },
   {
    "duration": 127,
    "start_time": "2023-01-07T10:08:28.617Z"
   },
   {
    "duration": 32,
    "start_time": "2023-01-07T10:08:28.746Z"
   },
   {
    "duration": 58,
    "start_time": "2023-01-07T10:08:28.780Z"
   },
   {
    "duration": 6,
    "start_time": "2023-01-07T10:08:28.842Z"
   },
   {
    "duration": 1209,
    "start_time": "2023-01-07T10:08:28.850Z"
   },
   {
    "duration": 7,
    "start_time": "2023-01-07T10:08:30.061Z"
   },
   {
    "duration": 1247,
    "start_time": "2023-01-07T10:08:30.070Z"
   },
   {
    "duration": 16177,
    "start_time": "2023-01-07T10:08:31.326Z"
   },
   {
    "duration": 8725,
    "start_time": "2023-01-07T10:08:47.505Z"
   },
   {
    "duration": 96,
    "start_time": "2023-01-07T10:08:56.235Z"
   },
   {
    "duration": 1640,
    "start_time": "2023-01-07T10:08:56.333Z"
   },
   {
    "duration": 55,
    "start_time": "2023-01-07T10:08:57.975Z"
   },
   {
    "duration": 20807,
    "start_time": "2023-01-07T10:08:58.036Z"
   },
   {
    "duration": 46,
    "start_time": "2023-01-07T10:09:18.845Z"
   },
   {
    "duration": 635,
    "start_time": "2023-01-07T10:09:18.892Z"
   },
   {
    "duration": 122,
    "start_time": "2023-01-07T10:09:19.533Z"
   },
   {
    "duration": 222,
    "start_time": "2023-01-07T10:09:19.657Z"
   },
   {
    "duration": 965,
    "start_time": "2023-01-07T10:09:19.882Z"
   },
   {
    "duration": 48,
    "start_time": "2023-01-07T10:09:20.850Z"
   },
   {
    "duration": 13639,
    "start_time": "2023-01-07T10:09:20.900Z"
   },
   {
    "duration": 48,
    "start_time": "2023-01-07T10:09:34.542Z"
   },
   {
    "duration": 344,
    "start_time": "2023-01-07T10:09:34.592Z"
   },
   {
    "duration": 187,
    "start_time": "2023-01-07T10:09:34.938Z"
   },
   {
    "duration": 1315,
    "start_time": "2023-01-07T10:09:35.128Z"
   },
   {
    "duration": 42,
    "start_time": "2023-01-07T10:09:36.444Z"
   },
   {
    "duration": 15785,
    "start_time": "2023-01-07T10:09:36.487Z"
   },
   {
    "duration": 58,
    "start_time": "2023-01-07T10:09:52.274Z"
   },
   {
    "duration": 395,
    "start_time": "2023-01-07T10:09:52.337Z"
   },
   {
    "duration": 193,
    "start_time": "2023-01-07T10:09:52.734Z"
   },
   {
    "duration": 142,
    "start_time": "2023-01-07T10:09:52.929Z"
   },
   {
    "duration": 38,
    "start_time": "2023-01-07T10:09:53.072Z"
   },
   {
    "duration": 1044,
    "start_time": "2023-01-07T10:35:31.238Z"
   },
   {
    "duration": 68,
    "start_time": "2023-01-07T10:35:32.284Z"
   },
   {
    "duration": 11,
    "start_time": "2023-01-07T10:35:32.354Z"
   },
   {
    "duration": 5,
    "start_time": "2023-01-07T10:35:32.366Z"
   },
   {
    "duration": 10,
    "start_time": "2023-01-07T10:35:32.372Z"
   },
   {
    "duration": 180,
    "start_time": "2023-01-07T10:35:32.383Z"
   },
   {
    "duration": 108,
    "start_time": "2023-01-07T10:35:32.565Z"
   },
   {
    "duration": 30,
    "start_time": "2023-01-07T10:35:32.674Z"
   },
   {
    "duration": 47,
    "start_time": "2023-01-07T10:35:32.706Z"
   },
   {
    "duration": 5,
    "start_time": "2023-01-07T10:35:32.754Z"
   },
   {
    "duration": 1143,
    "start_time": "2023-01-07T10:35:32.760Z"
   },
   {
    "duration": 5,
    "start_time": "2023-01-07T10:35:33.905Z"
   },
   {
    "duration": 1133,
    "start_time": "2023-01-07T10:35:33.921Z"
   },
   {
    "duration": 15130,
    "start_time": "2023-01-07T10:35:35.057Z"
   },
   {
    "duration": 8640,
    "start_time": "2023-01-07T10:35:50.189Z"
   },
   {
    "duration": 85,
    "start_time": "2023-01-07T10:35:58.830Z"
   },
   {
    "duration": 1521,
    "start_time": "2023-01-07T10:35:58.916Z"
   },
   {
    "duration": 38,
    "start_time": "2023-01-07T10:36:00.439Z"
   },
   {
    "duration": 19329,
    "start_time": "2023-01-07T10:36:00.479Z"
   },
   {
    "duration": 47,
    "start_time": "2023-01-07T10:36:19.809Z"
   },
   {
    "duration": 567,
    "start_time": "2023-01-07T10:36:19.858Z"
   },
   {
    "duration": 198,
    "start_time": "2023-01-07T10:36:20.427Z"
   },
   {
    "duration": 149,
    "start_time": "2023-01-07T10:36:20.632Z"
   },
   {
    "duration": 863,
    "start_time": "2023-01-07T10:36:20.783Z"
   },
   {
    "duration": 38,
    "start_time": "2023-01-07T10:36:21.648Z"
   },
   {
    "duration": 12676,
    "start_time": "2023-01-07T10:36:21.688Z"
   },
   {
    "duration": 71,
    "start_time": "2023-01-07T10:36:34.366Z"
   },
   {
    "duration": 300,
    "start_time": "2023-01-07T10:36:34.440Z"
   },
   {
    "duration": 281,
    "start_time": "2023-01-07T10:36:34.743Z"
   },
   {
    "duration": 1271,
    "start_time": "2023-01-07T10:36:35.032Z"
   },
   {
    "duration": 49,
    "start_time": "2023-01-07T10:36:36.305Z"
   },
   {
    "duration": 15599,
    "start_time": "2023-01-07T10:36:36.356Z"
   },
   {
    "duration": 41,
    "start_time": "2023-01-07T10:36:51.957Z"
   },
   {
    "duration": 423,
    "start_time": "2023-01-07T10:36:52.000Z"
   },
   {
    "duration": 129,
    "start_time": "2023-01-07T10:36:52.426Z"
   },
   {
    "duration": 131,
    "start_time": "2023-01-07T10:36:52.632Z"
   },
   {
    "duration": 1014,
    "start_time": "2023-01-07T10:57:27.174Z"
   },
   {
    "duration": 64,
    "start_time": "2023-01-07T10:57:28.190Z"
   },
   {
    "duration": 13,
    "start_time": "2023-01-07T10:57:28.258Z"
   },
   {
    "duration": 6,
    "start_time": "2023-01-07T10:57:28.274Z"
   },
   {
    "duration": 10,
    "start_time": "2023-01-07T10:57:28.281Z"
   },
   {
    "duration": 188,
    "start_time": "2023-01-07T10:57:28.292Z"
   },
   {
    "duration": 112,
    "start_time": "2023-01-07T10:57:28.482Z"
   },
   {
    "duration": 40,
    "start_time": "2023-01-07T10:57:28.596Z"
   },
   {
    "duration": 44,
    "start_time": "2023-01-07T10:57:28.638Z"
   },
   {
    "duration": 4,
    "start_time": "2023-01-07T10:57:28.684Z"
   },
   {
    "duration": 1120,
    "start_time": "2023-01-07T10:57:28.690Z"
   },
   {
    "duration": 20,
    "start_time": "2023-01-07T10:57:29.812Z"
   },
   {
    "duration": 1129,
    "start_time": "2023-01-07T10:57:29.833Z"
   },
   {
    "duration": 15319,
    "start_time": "2023-01-07T10:57:30.964Z"
   },
   {
    "duration": 8640,
    "start_time": "2023-01-07T10:57:46.285Z"
   },
   {
    "duration": 95,
    "start_time": "2023-01-07T10:57:54.927Z"
   },
   {
    "duration": 1515,
    "start_time": "2023-01-07T10:57:55.027Z"
   },
   {
    "duration": 48,
    "start_time": "2023-01-07T10:57:56.544Z"
   },
   {
    "duration": 19590,
    "start_time": "2023-01-07T10:57:56.594Z"
   },
   {
    "duration": 52,
    "start_time": "2023-01-07T10:58:16.185Z"
   },
   {
    "duration": 602,
    "start_time": "2023-01-07T10:58:16.239Z"
   },
   {
    "duration": 118,
    "start_time": "2023-01-07T10:58:16.846Z"
   },
   {
    "duration": 242,
    "start_time": "2023-01-07T10:58:16.966Z"
   },
   {
    "duration": 892,
    "start_time": "2023-01-07T10:58:17.210Z"
   },
   {
    "duration": 43,
    "start_time": "2023-01-07T10:58:18.103Z"
   },
   {
    "duration": 12846,
    "start_time": "2023-01-07T10:58:18.150Z"
   },
   {
    "duration": 48,
    "start_time": "2023-01-07T10:58:30.998Z"
   },
   {
    "duration": 290,
    "start_time": "2023-01-07T10:58:31.048Z"
   },
   {
    "duration": 206,
    "start_time": "2023-01-07T10:58:31.341Z"
   },
   {
    "duration": 1337,
    "start_time": "2023-01-07T10:58:31.549Z"
   },
   {
    "duration": 48,
    "start_time": "2023-01-07T10:58:32.888Z"
   },
   {
    "duration": 15404,
    "start_time": "2023-01-07T10:58:32.939Z"
   },
   {
    "duration": 42,
    "start_time": "2023-01-07T10:58:48.345Z"
   },
   {
    "duration": 439,
    "start_time": "2023-01-07T10:58:48.388Z"
   },
   {
    "duration": 195,
    "start_time": "2023-01-07T10:58:48.828Z"
   },
   {
    "duration": 126,
    "start_time": "2023-01-07T10:58:49.030Z"
   },
   {
    "duration": 1119,
    "start_time": "2023-01-13T10:51:21.313Z"
   },
   {
    "duration": 110,
    "start_time": "2023-01-13T10:51:22.434Z"
   },
   {
    "duration": 12,
    "start_time": "2023-01-13T10:51:22.546Z"
   },
   {
    "duration": 4,
    "start_time": "2023-01-13T10:51:22.560Z"
   },
   {
    "duration": 9,
    "start_time": "2023-01-13T10:51:22.567Z"
   },
   {
    "duration": 9,
    "start_time": "2023-01-13T10:51:22.577Z"
   },
   {
    "duration": 99,
    "start_time": "2023-01-13T10:51:22.588Z"
   },
   {
    "duration": 54,
    "start_time": "2023-01-13T10:51:22.688Z"
   },
   {
    "duration": 30,
    "start_time": "2023-01-13T10:51:22.744Z"
   },
   {
    "duration": 5,
    "start_time": "2023-01-13T10:51:22.775Z"
   },
   {
    "duration": 258,
    "start_time": "2023-01-13T10:51:22.781Z"
   },
   {
    "duration": 0,
    "start_time": "2023-01-13T10:51:23.041Z"
   },
   {
    "duration": 0,
    "start_time": "2023-01-13T10:51:23.043Z"
   },
   {
    "duration": 0,
    "start_time": "2023-01-13T10:51:23.044Z"
   },
   {
    "duration": 0,
    "start_time": "2023-01-13T10:51:23.045Z"
   },
   {
    "duration": 0,
    "start_time": "2023-01-13T10:51:23.046Z"
   },
   {
    "duration": 0,
    "start_time": "2023-01-13T10:51:23.046Z"
   },
   {
    "duration": 0,
    "start_time": "2023-01-13T10:51:23.048Z"
   },
   {
    "duration": 0,
    "start_time": "2023-01-13T10:51:23.049Z"
   },
   {
    "duration": 0,
    "start_time": "2023-01-13T10:51:23.050Z"
   },
   {
    "duration": 0,
    "start_time": "2023-01-13T10:51:23.052Z"
   },
   {
    "duration": 0,
    "start_time": "2023-01-13T10:51:23.053Z"
   },
   {
    "duration": 0,
    "start_time": "2023-01-13T10:51:23.054Z"
   },
   {
    "duration": 0,
    "start_time": "2023-01-13T10:51:23.055Z"
   },
   {
    "duration": 0,
    "start_time": "2023-01-13T10:51:23.056Z"
   },
   {
    "duration": 0,
    "start_time": "2023-01-13T10:51:23.058Z"
   },
   {
    "duration": 0,
    "start_time": "2023-01-13T10:51:23.060Z"
   },
   {
    "duration": 0,
    "start_time": "2023-01-13T10:51:23.062Z"
   },
   {
    "duration": 0,
    "start_time": "2023-01-13T10:51:23.105Z"
   },
   {
    "duration": 0,
    "start_time": "2023-01-13T10:51:23.107Z"
   },
   {
    "duration": 1,
    "start_time": "2023-01-13T10:51:23.108Z"
   },
   {
    "duration": 0,
    "start_time": "2023-01-13T10:51:23.112Z"
   },
   {
    "duration": 0,
    "start_time": "2023-01-13T10:51:23.113Z"
   },
   {
    "duration": 0,
    "start_time": "2023-01-13T10:51:23.115Z"
   },
   {
    "duration": 0,
    "start_time": "2023-01-13T10:51:23.116Z"
   },
   {
    "duration": 0,
    "start_time": "2023-01-13T10:51:23.117Z"
   },
   {
    "duration": 1039,
    "start_time": "2023-01-13T11:05:18.633Z"
   },
   {
    "duration": 62,
    "start_time": "2023-01-13T11:05:19.674Z"
   },
   {
    "duration": 16,
    "start_time": "2023-01-13T11:05:19.737Z"
   },
   {
    "duration": 4,
    "start_time": "2023-01-13T11:05:19.754Z"
   },
   {
    "duration": 14,
    "start_time": "2023-01-13T11:05:19.760Z"
   },
   {
    "duration": 7,
    "start_time": "2023-01-13T11:05:19.775Z"
   },
   {
    "duration": 15,
    "start_time": "2023-01-13T11:05:19.783Z"
   },
   {
    "duration": 104,
    "start_time": "2023-01-13T11:05:19.800Z"
   },
   {
    "duration": 44,
    "start_time": "2023-01-13T11:05:19.905Z"
   },
   {
    "duration": 5,
    "start_time": "2023-01-13T11:05:19.952Z"
   },
   {
    "duration": 274,
    "start_time": "2023-01-13T11:05:19.959Z"
   },
   {
    "duration": 0,
    "start_time": "2023-01-13T11:05:20.235Z"
   },
   {
    "duration": 0,
    "start_time": "2023-01-13T11:05:20.236Z"
   },
   {
    "duration": 0,
    "start_time": "2023-01-13T11:05:20.237Z"
   },
   {
    "duration": 0,
    "start_time": "2023-01-13T11:05:20.238Z"
   },
   {
    "duration": 0,
    "start_time": "2023-01-13T11:05:20.239Z"
   },
   {
    "duration": 0,
    "start_time": "2023-01-13T11:05:20.240Z"
   },
   {
    "duration": 0,
    "start_time": "2023-01-13T11:05:20.242Z"
   },
   {
    "duration": 0,
    "start_time": "2023-01-13T11:05:20.243Z"
   },
   {
    "duration": 0,
    "start_time": "2023-01-13T11:05:20.244Z"
   },
   {
    "duration": 0,
    "start_time": "2023-01-13T11:05:20.245Z"
   },
   {
    "duration": 0,
    "start_time": "2023-01-13T11:05:20.246Z"
   },
   {
    "duration": 0,
    "start_time": "2023-01-13T11:05:20.247Z"
   },
   {
    "duration": 0,
    "start_time": "2023-01-13T11:05:20.248Z"
   },
   {
    "duration": 0,
    "start_time": "2023-01-13T11:05:20.249Z"
   },
   {
    "duration": 0,
    "start_time": "2023-01-13T11:05:20.250Z"
   },
   {
    "duration": 0,
    "start_time": "2023-01-13T11:05:20.251Z"
   },
   {
    "duration": 0,
    "start_time": "2023-01-13T11:05:20.252Z"
   },
   {
    "duration": 0,
    "start_time": "2023-01-13T11:05:20.253Z"
   },
   {
    "duration": 0,
    "start_time": "2023-01-13T11:05:20.255Z"
   },
   {
    "duration": 0,
    "start_time": "2023-01-13T11:05:20.255Z"
   },
   {
    "duration": 0,
    "start_time": "2023-01-13T11:05:20.256Z"
   },
   {
    "duration": 0,
    "start_time": "2023-01-13T11:05:20.257Z"
   },
   {
    "duration": 0,
    "start_time": "2023-01-13T11:05:20.297Z"
   },
   {
    "duration": 0,
    "start_time": "2023-01-13T11:05:20.298Z"
   },
   {
    "duration": 0,
    "start_time": "2023-01-13T11:05:20.299Z"
   },
   {
    "duration": 5,
    "start_time": "2023-01-13T11:12:19.935Z"
   },
   {
    "duration": 4,
    "start_time": "2023-01-13T11:12:25.099Z"
   },
   {
    "duration": 7,
    "start_time": "2023-01-13T11:12:33.051Z"
   },
   {
    "duration": 7,
    "start_time": "2023-01-13T11:12:36.563Z"
   },
   {
    "duration": 6,
    "start_time": "2023-01-13T11:12:39.262Z"
   },
   {
    "duration": 17,
    "start_time": "2023-01-13T11:12:41.413Z"
   },
   {
    "duration": 17,
    "start_time": "2023-01-13T11:12:44.633Z"
   },
   {
    "duration": 35,
    "start_time": "2023-01-13T11:13:04.414Z"
   },
   {
    "duration": 4,
    "start_time": "2023-01-13T11:13:10.062Z"
   },
   {
    "duration": 64,
    "start_time": "2023-01-13T11:13:20.010Z"
   },
   {
    "duration": 5,
    "start_time": "2023-01-13T11:13:23.796Z"
   },
   {
    "duration": 1066,
    "start_time": "2023-01-13T11:13:32.114Z"
   },
   {
    "duration": 62,
    "start_time": "2023-01-13T11:13:33.182Z"
   },
   {
    "duration": 12,
    "start_time": "2023-01-13T11:13:33.246Z"
   },
   {
    "duration": 4,
    "start_time": "2023-01-13T11:13:33.259Z"
   },
   {
    "duration": 8,
    "start_time": "2023-01-13T11:13:33.264Z"
   },
   {
    "duration": 19,
    "start_time": "2023-01-13T11:13:33.274Z"
   },
   {
    "duration": 10,
    "start_time": "2023-01-13T11:13:33.294Z"
   },
   {
    "duration": 29,
    "start_time": "2023-01-13T11:13:33.305Z"
   },
   {
    "duration": 66,
    "start_time": "2023-01-13T11:13:33.336Z"
   },
   {
    "duration": 28,
    "start_time": "2023-01-13T11:13:33.407Z"
   },
   {
    "duration": 4,
    "start_time": "2023-01-13T11:13:33.437Z"
   },
   {
    "duration": 73,
    "start_time": "2023-01-13T11:13:33.443Z"
   },
   {
    "duration": 4,
    "start_time": "2023-01-13T11:13:33.518Z"
   },
   {
    "duration": 61,
    "start_time": "2023-01-13T11:13:33.524Z"
   },
   {
    "duration": 2643,
    "start_time": "2023-01-13T11:13:33.597Z"
   },
   {
    "duration": 357,
    "start_time": "2023-01-13T11:13:36.243Z"
   },
   {
    "duration": 9,
    "start_time": "2023-01-13T11:13:36.602Z"
   },
   {
    "duration": 63,
    "start_time": "2023-01-13T11:13:36.612Z"
   },
   {
    "duration": 23,
    "start_time": "2023-01-13T11:13:36.676Z"
   },
   {
    "duration": 2926,
    "start_time": "2023-01-13T11:13:36.701Z"
   },
   {
    "duration": 11,
    "start_time": "2023-01-13T11:13:39.628Z"
   },
   {
    "duration": 68,
    "start_time": "2023-01-13T11:13:39.640Z"
   },
   {
    "duration": 11,
    "start_time": "2023-01-13T11:13:39.797Z"
   },
   {
    "duration": 200,
    "start_time": "2023-01-13T11:13:39.810Z"
   },
   {
    "duration": 78,
    "start_time": "2023-01-13T11:13:40.012Z"
   },
   {
    "duration": 9,
    "start_time": "2023-01-13T11:13:40.092Z"
   },
   {
    "duration": 2125,
    "start_time": "2023-01-13T11:13:40.103Z"
   },
   {
    "duration": 11,
    "start_time": "2023-01-13T11:13:42.231Z"
   },
   {
    "duration": 57,
    "start_time": "2023-01-13T11:13:42.244Z"
   },
   {
    "duration": 104,
    "start_time": "2023-01-13T11:13:42.304Z"
   },
   {
    "duration": 152,
    "start_time": "2023-01-13T11:13:42.499Z"
   },
   {
    "duration": 6,
    "start_time": "2023-01-13T11:13:42.654Z"
   },
   {
    "duration": 2752,
    "start_time": "2023-01-13T11:13:42.662Z"
   },
   {
    "duration": 12,
    "start_time": "2023-01-13T11:13:45.416Z"
   },
   {
    "duration": 74,
    "start_time": "2023-01-13T11:13:45.429Z"
   },
   {
    "duration": 99,
    "start_time": "2023-01-13T11:13:45.505Z"
   },
   {
    "duration": 100,
    "start_time": "2023-01-13T11:13:45.606Z"
   },
   {
    "duration": 4,
    "start_time": "2023-01-13T11:20:13.032Z"
   },
   {
    "duration": 56,
    "start_time": "2023-01-13T11:20:13.038Z"
   },
   {
    "duration": 12,
    "start_time": "2023-01-13T11:20:13.096Z"
   },
   {
    "duration": 6,
    "start_time": "2023-01-13T11:20:13.110Z"
   },
   {
    "duration": 16,
    "start_time": "2023-01-13T11:20:13.118Z"
   },
   {
    "duration": 15,
    "start_time": "2023-01-13T11:20:13.136Z"
   },
   {
    "duration": 12,
    "start_time": "2023-01-13T11:20:13.153Z"
   },
   {
    "duration": 9,
    "start_time": "2023-01-13T11:20:13.167Z"
   },
   {
    "duration": 34,
    "start_time": "2023-01-13T11:20:13.179Z"
   },
   {
    "duration": 30,
    "start_time": "2023-01-13T11:20:13.216Z"
   },
   {
    "duration": 5,
    "start_time": "2023-01-13T11:20:13.248Z"
   },
   {
    "duration": 77,
    "start_time": "2023-01-13T11:20:13.254Z"
   },
   {
    "duration": 5,
    "start_time": "2023-01-13T11:20:13.334Z"
   },
   {
    "duration": 76,
    "start_time": "2023-01-13T11:20:13.341Z"
   },
   {
    "duration": 2601,
    "start_time": "2023-01-13T11:20:13.418Z"
   },
   {
    "duration": 700,
    "start_time": "2023-01-13T11:20:16.021Z"
   },
   {
    "duration": 1007,
    "start_time": "2023-01-13T11:20:52.531Z"
   },
   {
    "duration": 59,
    "start_time": "2023-01-13T11:20:53.539Z"
   },
   {
    "duration": 14,
    "start_time": "2023-01-13T11:20:53.600Z"
   },
   {
    "duration": 4,
    "start_time": "2023-01-13T11:20:53.616Z"
   },
   {
    "duration": 8,
    "start_time": "2023-01-13T11:20:53.622Z"
   },
   {
    "duration": 13,
    "start_time": "2023-01-13T11:20:53.631Z"
   },
   {
    "duration": 6,
    "start_time": "2023-01-13T11:20:53.646Z"
   },
   {
    "duration": 8,
    "start_time": "2023-01-13T11:20:53.654Z"
   },
   {
    "duration": 38,
    "start_time": "2023-01-13T11:20:53.664Z"
   },
   {
    "duration": 38,
    "start_time": "2023-01-13T11:20:53.704Z"
   },
   {
    "duration": 5,
    "start_time": "2023-01-13T11:20:53.743Z"
   },
   {
    "duration": 83,
    "start_time": "2023-01-13T11:20:53.750Z"
   },
   {
    "duration": 4,
    "start_time": "2023-01-13T11:20:53.835Z"
   },
   {
    "duration": 67,
    "start_time": "2023-01-13T11:20:53.843Z"
   },
   {
    "duration": 2618,
    "start_time": "2023-01-13T11:20:53.911Z"
   },
   {
    "duration": 270,
    "start_time": "2023-01-13T11:20:56.531Z"
   },
   {
    "duration": 14,
    "start_time": "2023-01-13T11:20:56.803Z"
   },
   {
    "duration": 78,
    "start_time": "2023-01-13T11:20:56.819Z"
   },
   {
    "duration": 9,
    "start_time": "2023-01-13T11:20:56.899Z"
   },
   {
    "duration": 2951,
    "start_time": "2023-01-13T11:20:56.909Z"
   },
   {
    "duration": 10,
    "start_time": "2023-01-13T11:20:59.861Z"
   },
   {
    "duration": 34,
    "start_time": "2023-01-13T11:20:59.872Z"
   },
   {
    "duration": 100,
    "start_time": "2023-01-13T11:20:59.909Z"
   },
   {
    "duration": 206,
    "start_time": "2023-01-13T11:21:00.011Z"
   },
   {
    "duration": 71,
    "start_time": "2023-01-13T11:21:00.219Z"
   },
   {
    "duration": 8,
    "start_time": "2023-01-13T11:21:00.292Z"
   },
   {
    "duration": 2181,
    "start_time": "2023-01-13T11:21:00.302Z"
   },
   {
    "duration": 16,
    "start_time": "2023-01-13T11:21:02.484Z"
   },
   {
    "duration": 33,
    "start_time": "2023-01-13T11:21:02.502Z"
   },
   {
    "duration": 85,
    "start_time": "2023-01-13T11:21:02.621Z"
   },
   {
    "duration": 238,
    "start_time": "2023-01-13T11:21:02.708Z"
   },
   {
    "duration": 9,
    "start_time": "2023-01-13T11:21:02.947Z"
   },
   {
    "duration": 2684,
    "start_time": "2023-01-13T11:21:02.958Z"
   },
   {
    "duration": 14,
    "start_time": "2023-01-13T11:21:05.644Z"
   },
   {
    "duration": 42,
    "start_time": "2023-01-13T11:21:05.659Z"
   },
   {
    "duration": 97,
    "start_time": "2023-01-13T11:21:05.706Z"
   },
   {
    "duration": 99,
    "start_time": "2023-01-13T11:21:05.805Z"
   },
   {
    "duration": 1081,
    "start_time": "2023-01-13T11:29:14.708Z"
   },
   {
    "duration": 62,
    "start_time": "2023-01-13T11:29:15.791Z"
   },
   {
    "duration": 12,
    "start_time": "2023-01-13T11:29:15.855Z"
   },
   {
    "duration": 12,
    "start_time": "2023-01-13T11:29:15.870Z"
   },
   {
    "duration": 9,
    "start_time": "2023-01-13T11:29:15.883Z"
   },
   {
    "duration": 23,
    "start_time": "2023-01-13T11:29:15.894Z"
   },
   {
    "duration": 8,
    "start_time": "2023-01-13T11:29:15.920Z"
   },
   {
    "duration": 7,
    "start_time": "2023-01-13T11:29:15.930Z"
   },
   {
    "duration": 36,
    "start_time": "2023-01-13T11:29:15.939Z"
   },
   {
    "duration": 35,
    "start_time": "2023-01-13T11:29:15.978Z"
   },
   {
    "duration": 5,
    "start_time": "2023-01-13T11:29:16.014Z"
   },
   {
    "duration": 52,
    "start_time": "2023-01-13T11:29:16.021Z"
   },
   {
    "duration": 22,
    "start_time": "2023-01-13T11:29:16.075Z"
   },
   {
    "duration": 60,
    "start_time": "2023-01-13T11:29:16.099Z"
   },
   {
    "duration": 2420,
    "start_time": "2023-01-13T11:29:16.161Z"
   },
   {
    "duration": 319,
    "start_time": "2023-01-13T11:29:18.582Z"
   },
   {
    "duration": 9,
    "start_time": "2023-01-13T11:29:18.902Z"
   },
   {
    "duration": 65,
    "start_time": "2023-01-13T11:29:18.913Z"
   },
   {
    "duration": 20,
    "start_time": "2023-01-13T11:29:18.980Z"
   },
   {
    "duration": 2883,
    "start_time": "2023-01-13T11:29:19.002Z"
   },
   {
    "duration": 17,
    "start_time": "2023-01-13T11:29:21.886Z"
   },
   {
    "duration": 100,
    "start_time": "2023-01-13T11:29:21.904Z"
   },
   {
    "duration": 102,
    "start_time": "2023-01-13T11:29:22.006Z"
   },
   {
    "duration": 199,
    "start_time": "2023-01-13T11:29:22.111Z"
   },
   {
    "duration": 50,
    "start_time": "2023-01-13T11:29:22.311Z"
   },
   {
    "duration": 9,
    "start_time": "2023-01-13T11:29:22.362Z"
   },
   {
    "duration": 2055,
    "start_time": "2023-01-13T11:29:22.372Z"
   },
   {
    "duration": 10,
    "start_time": "2023-01-13T11:29:24.431Z"
   },
   {
    "duration": 66,
    "start_time": "2023-01-13T11:29:24.443Z"
   },
   {
    "duration": 92,
    "start_time": "2023-01-13T11:29:24.511Z"
   },
   {
    "duration": 254,
    "start_time": "2023-01-13T11:29:24.609Z"
   },
   {
    "duration": 7,
    "start_time": "2023-01-13T11:29:24.865Z"
   },
   {
    "duration": 2682,
    "start_time": "2023-01-13T11:29:24.874Z"
   },
   {
    "duration": 11,
    "start_time": "2023-01-13T11:29:27.557Z"
   },
   {
    "duration": 31,
    "start_time": "2023-01-13T11:29:27.570Z"
   },
   {
    "duration": 97,
    "start_time": "2023-01-13T11:29:27.602Z"
   },
   {
    "duration": 98,
    "start_time": "2023-01-13T11:29:27.702Z"
   },
   {
    "duration": 449,
    "start_time": "2023-01-13T11:39:23.581Z"
   },
   {
    "duration": 1054,
    "start_time": "2023-01-13T11:40:50.712Z"
   },
   {
    "duration": 62,
    "start_time": "2023-01-13T11:40:51.768Z"
   },
   {
    "duration": 13,
    "start_time": "2023-01-13T11:40:51.832Z"
   },
   {
    "duration": 4,
    "start_time": "2023-01-13T11:40:51.846Z"
   },
   {
    "duration": 7,
    "start_time": "2023-01-13T11:40:51.852Z"
   },
   {
    "duration": 12,
    "start_time": "2023-01-13T11:40:51.860Z"
   },
   {
    "duration": 23,
    "start_time": "2023-01-13T11:40:51.874Z"
   },
   {
    "duration": 6,
    "start_time": "2023-01-13T11:40:51.899Z"
   },
   {
    "duration": 21,
    "start_time": "2023-01-13T11:40:51.906Z"
   },
   {
    "duration": 31,
    "start_time": "2023-01-13T11:40:51.928Z"
   },
   {
    "duration": 4,
    "start_time": "2023-01-13T11:40:51.961Z"
   },
   {
    "duration": 69,
    "start_time": "2023-01-13T11:40:51.967Z"
   },
   {
    "duration": 4,
    "start_time": "2023-01-13T11:40:52.038Z"
   },
   {
    "duration": 97,
    "start_time": "2023-01-13T11:40:52.045Z"
   },
   {
    "duration": 2393,
    "start_time": "2023-01-13T11:40:52.144Z"
   },
   {
    "duration": 278,
    "start_time": "2023-01-13T11:40:54.539Z"
   },
   {
    "duration": 342,
    "start_time": "2023-01-13T11:40:54.820Z"
   },
   {
    "duration": 9,
    "start_time": "2023-01-13T11:40:55.164Z"
   },
   {
    "duration": 77,
    "start_time": "2023-01-13T11:40:55.174Z"
   },
   {
    "duration": 7,
    "start_time": "2023-01-13T11:40:55.253Z"
   },
   {
    "duration": 2863,
    "start_time": "2023-01-13T11:40:55.261Z"
   },
   {
    "duration": 11,
    "start_time": "2023-01-13T11:40:58.125Z"
   },
   {
    "duration": 61,
    "start_time": "2023-01-13T11:40:58.138Z"
   },
   {
    "duration": 98,
    "start_time": "2023-01-13T11:40:58.201Z"
   },
   {
    "duration": 107,
    "start_time": "2023-01-13T11:40:58.301Z"
   },
   {
    "duration": 45,
    "start_time": "2023-01-13T11:40:58.410Z"
   },
   {
    "duration": 6,
    "start_time": "2023-01-13T11:40:58.456Z"
   },
   {
    "duration": 2051,
    "start_time": "2023-01-13T11:40:58.464Z"
   },
   {
    "duration": 11,
    "start_time": "2023-01-13T11:41:00.516Z"
   },
   {
    "duration": 37,
    "start_time": "2023-01-13T11:41:00.529Z"
   },
   {
    "duration": 122,
    "start_time": "2023-01-13T11:41:00.599Z"
   },
   {
    "duration": 233,
    "start_time": "2023-01-13T11:41:00.723Z"
   },
   {
    "duration": 7,
    "start_time": "2023-01-13T11:41:00.957Z"
   },
   {
    "duration": 2688,
    "start_time": "2023-01-13T11:41:00.965Z"
   },
   {
    "duration": 12,
    "start_time": "2023-01-13T11:41:03.655Z"
   },
   {
    "duration": 42,
    "start_time": "2023-01-13T11:41:03.669Z"
   },
   {
    "duration": 106,
    "start_time": "2023-01-13T11:41:03.798Z"
   },
   {
    "duration": 105,
    "start_time": "2023-01-13T11:41:03.907Z"
   },
   {
    "duration": 96,
    "start_time": "2023-01-13T11:50:55.388Z"
   },
   {
    "duration": 102,
    "start_time": "2023-01-13T11:52:36.812Z"
   },
   {
    "duration": 100,
    "start_time": "2023-01-13T11:54:11.234Z"
   },
   {
    "duration": 175,
    "start_time": "2023-01-13T11:55:07.054Z"
   },
   {
    "duration": 1087,
    "start_time": "2023-01-13T11:55:45.403Z"
   },
   {
    "duration": 64,
    "start_time": "2023-01-13T11:55:46.493Z"
   },
   {
    "duration": 12,
    "start_time": "2023-01-13T11:55:46.558Z"
   },
   {
    "duration": 5,
    "start_time": "2023-01-13T11:55:46.572Z"
   },
   {
    "duration": 6,
    "start_time": "2023-01-13T11:55:46.579Z"
   },
   {
    "duration": 13,
    "start_time": "2023-01-13T11:55:46.586Z"
   },
   {
    "duration": 16,
    "start_time": "2023-01-13T11:55:46.600Z"
   },
   {
    "duration": 19,
    "start_time": "2023-01-13T11:55:46.617Z"
   },
   {
    "duration": 25,
    "start_time": "2023-01-13T11:55:46.638Z"
   },
   {
    "duration": 28,
    "start_time": "2023-01-13T11:55:46.666Z"
   },
   {
    "duration": 4,
    "start_time": "2023-01-13T11:55:46.696Z"
   },
   {
    "duration": 58,
    "start_time": "2023-01-13T11:55:46.701Z"
   },
   {
    "duration": 4,
    "start_time": "2023-01-13T11:55:46.760Z"
   },
   {
    "duration": 66,
    "start_time": "2023-01-13T11:55:46.766Z"
   },
   {
    "duration": 2492,
    "start_time": "2023-01-13T11:55:46.834Z"
   },
   {
    "duration": 372,
    "start_time": "2023-01-13T11:55:49.328Z"
   },
   {
    "duration": 339,
    "start_time": "2023-01-13T11:55:49.701Z"
   },
   {
    "duration": 10,
    "start_time": "2023-01-13T11:55:50.042Z"
   },
   {
    "duration": 84,
    "start_time": "2023-01-13T11:55:50.054Z"
   },
   {
    "duration": 7,
    "start_time": "2023-01-13T11:55:50.140Z"
   },
   {
    "duration": 2869,
    "start_time": "2023-01-13T11:55:50.149Z"
   },
   {
    "duration": 10,
    "start_time": "2023-01-13T11:55:53.020Z"
   },
   {
    "duration": 66,
    "start_time": "2023-01-13T11:55:53.031Z"
   },
   {
    "duration": 10,
    "start_time": "2023-01-13T11:55:53.099Z"
   },
   {
    "duration": 208,
    "start_time": "2023-01-13T11:55:53.111Z"
   },
   {
    "duration": 44,
    "start_time": "2023-01-13T11:55:53.320Z"
   },
   {
    "duration": 5,
    "start_time": "2023-01-13T11:55:53.366Z"
   },
   {
    "duration": 2196,
    "start_time": "2023-01-13T11:55:53.374Z"
   },
   {
    "duration": 10,
    "start_time": "2023-01-13T11:55:55.571Z"
   },
   {
    "duration": 26,
    "start_time": "2023-01-13T11:55:55.582Z"
   },
   {
    "duration": 92,
    "start_time": "2023-01-13T11:55:55.611Z"
   },
   {
    "duration": 216,
    "start_time": "2023-01-13T11:55:55.705Z"
   },
   {
    "duration": 19,
    "start_time": "2023-01-13T11:55:55.922Z"
   },
   {
    "duration": 2493,
    "start_time": "2023-01-13T11:55:55.943Z"
   },
   {
    "duration": 9,
    "start_time": "2023-01-13T11:55:58.438Z"
   },
   {
    "duration": 54,
    "start_time": "2023-01-13T11:55:58.448Z"
   },
   {
    "duration": 100,
    "start_time": "2023-01-13T11:55:58.504Z"
   },
   {
    "duration": 191,
    "start_time": "2023-01-13T11:55:58.606Z"
   }
  ],
  "kernelspec": {
   "display_name": "Python 3 (ipykernel)",
   "language": "python",
   "name": "python3"
  },
  "language_info": {
   "codemirror_mode": {
    "name": "ipython",
    "version": 3
   },
   "file_extension": ".py",
   "mimetype": "text/x-python",
   "name": "python",
   "nbconvert_exporter": "python",
   "pygments_lexer": "ipython3",
   "version": "3.9.13"
  },
  "toc": {
   "base_numbering": 1,
   "nav_menu": {},
   "number_sections": true,
   "sideBar": true,
   "skip_h1_title": true,
   "title_cell": "Содержание",
   "title_sidebar": "Contents",
   "toc_cell": true,
   "toc_position": {
    "height": "calc(100% - 180px)",
    "left": "10px",
    "top": "150px",
    "width": "185.1875px"
   },
   "toc_section_display": true,
   "toc_window_display": true
  }
 },
 "nbformat": 4,
 "nbformat_minor": 2
}
